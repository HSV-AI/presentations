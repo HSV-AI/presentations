{
  "cells": [
    {
      "cell_type": "markdown",
      "metadata": {
        "id": "view-in-github",
        "colab_type": "text"
      },
      "source": [
        "<a href=\"https://colab.research.google.com/github/HSV-AI/presentations/blob/master/2024/240925_Pixtral.ipynb\" target=\"_parent\"><img src=\"https://colab.research.google.com/assets/colab-badge.svg\" alt=\"Open In Colab\"/></a>"
      ]
    },
    {
      "cell_type": "markdown",
      "metadata": {
        "id": "noU5NdQwOtxB"
      },
      "source": [
        "![Logo](https://camo.githubusercontent.com/455da7518417340e112a473e3bdd91dae3dc8fda296d247ad3f3bc95cced8738/68747470733a2f2f6873762e61692f77702d636f6e74656e742f75706c6f6164732f323032322f30332f6c6f676f5f7631315f323032322e706e67)\n",
        "\n",
        "# Welcome\n",
        "- Vision\n",
        "- Mission\n",
        "- How to Connect - [Signup](https://hsv.ai/subscribe/)\n",
        "\n",
        "\n"
      ]
    },
    {
      "cell_type": "markdown",
      "metadata": {
        "id": "bJxyV0Z_r76n"
      },
      "source": [
        "# Pixtral\n",
        "\n",
        "Here are some key pieces from the [Mistral AI post](https://mistral.ai/news/pixtral-12b/) announcing Pixtral:\n",
        "\n",
        "- Natively multimodal, trained with interleaved image and text data\n",
        "- Strong performance on multimodal tasks, excels in instruction following\n",
        "- Maintains state-of-the-art performance on text-only benchmarks\n",
        "- Architecture:\n",
        "  - New 400M parameter vision encoder trained from scratch\n",
        "  - 12B parameter multimodal decoder based on Mistral Nemo\n",
        "  - Supports **variable image sizes and aspect ratios**\n",
        "  - Supports **multiple images** in the long context window of 128k tokens\n",
        "\n",
        "## Image Encoding\n",
        "\n",
        "Variable image size: Pixtral is designed to optimize for both speed and performance. We trained a new vision encoder that natively supports variable image sizes:\n",
        "\n",
        "- We simply pass images through the vision encoder at their native resolution and aspect ratio, converting them into image tokens for each 16x16 patch in the image\n",
        "- These tokens are then flattened to create a sequence, with [IMG BREAK] and [IMG END] tokens added between rows and at the end of the image.\n",
        "- [IMG BREAK] tokens let the model distinguish between images of different aspect ratios with the same number of tokens.\n",
        "\n",
        "## Full Model\n",
        "\n",
        "This is the best image I can find to show how the pieces are put together:\n",
        "\n",
        "![Image](https://mistral.ai/images/news/pixtral-12b/pixtral-model-architecture.png)\n",
        "\n"
      ]
    },
    {
      "cell_type": "markdown",
      "metadata": {
        "id": "nYGC2rn6sEKy"
      },
      "source": [
        "\n",
        "# Le Chat\n",
        "\n",
        "My first attempt at using Pixtral was through the Le Chat site from Mistral - [https://chat.mistral.ai/chat](https://chat.mistral.ai/chat)"
      ]
    },
    {
      "cell_type": "code",
      "source": [],
      "metadata": {
        "id": "Dvjarie082kL"
      },
      "execution_count": null,
      "outputs": []
    },
    {
      "cell_type": "markdown",
      "source": [
        "# Le Platforme\n",
        "\n",
        "I signed up for free to get access to the API. The site asked me for a phone number to verify. I chose the \"Experiment for Free\" option. Then I created an API key and was off to the races. The first step was to recreate the example from the API documentation. It analyzes this image:\n",
        "\n",
        "![Image](https://tripfixers.com/wp-content/uploads/2019/11/eiffel-tower-with-snow.jpeg)"
      ],
      "metadata": {
        "id": "D0RABNJY7Bus"
      }
    },
    {
      "cell_type": "code",
      "source": [
        "!pip install mistralai"
      ],
      "metadata": {
        "collapsed": true,
        "id": "b1M3goPu8-zT",
        "outputId": "d8234349-b6c2-4dc6-e903-db6b34124e8a",
        "colab": {
          "base_uri": "https://localhost:8080/"
        }
      },
      "execution_count": 1,
      "outputs": [
        {
          "output_type": "stream",
          "name": "stdout",
          "text": [
            "Collecting mistralai\n",
            "  Downloading mistralai-1.1.0-py3-none-any.whl.metadata (23 kB)\n",
            "Requirement already satisfied: eval-type-backport<0.3.0,>=0.2.0 in /usr/local/lib/python3.10/dist-packages (from mistralai) (0.2.0)\n",
            "Collecting httpx<0.28.0,>=0.27.0 (from mistralai)\n",
            "  Downloading httpx-0.27.2-py3-none-any.whl.metadata (7.1 kB)\n",
            "Collecting jsonpath-python<2.0.0,>=1.0.6 (from mistralai)\n",
            "  Downloading jsonpath_python-1.0.6-py3-none-any.whl.metadata (12 kB)\n",
            "Requirement already satisfied: pydantic<3.0.0,>=2.9.0 in /usr/local/lib/python3.10/dist-packages (from mistralai) (2.9.2)\n",
            "Requirement already satisfied: python-dateutil==2.8.2 in /usr/local/lib/python3.10/dist-packages (from mistralai) (2.8.2)\n",
            "Collecting typing-inspect<0.10.0,>=0.9.0 (from mistralai)\n",
            "  Downloading typing_inspect-0.9.0-py3-none-any.whl.metadata (1.5 kB)\n",
            "Requirement already satisfied: six>=1.5 in /usr/local/lib/python3.10/dist-packages (from python-dateutil==2.8.2->mistralai) (1.16.0)\n",
            "Requirement already satisfied: anyio in /usr/local/lib/python3.10/dist-packages (from httpx<0.28.0,>=0.27.0->mistralai) (3.7.1)\n",
            "Requirement already satisfied: certifi in /usr/local/lib/python3.10/dist-packages (from httpx<0.28.0,>=0.27.0->mistralai) (2024.8.30)\n",
            "Collecting httpcore==1.* (from httpx<0.28.0,>=0.27.0->mistralai)\n",
            "  Downloading httpcore-1.0.5-py3-none-any.whl.metadata (20 kB)\n",
            "Requirement already satisfied: idna in /usr/local/lib/python3.10/dist-packages (from httpx<0.28.0,>=0.27.0->mistralai) (3.10)\n",
            "Requirement already satisfied: sniffio in /usr/local/lib/python3.10/dist-packages (from httpx<0.28.0,>=0.27.0->mistralai) (1.3.1)\n",
            "Collecting h11<0.15,>=0.13 (from httpcore==1.*->httpx<0.28.0,>=0.27.0->mistralai)\n",
            "  Downloading h11-0.14.0-py3-none-any.whl.metadata (8.2 kB)\n",
            "Requirement already satisfied: annotated-types>=0.6.0 in /usr/local/lib/python3.10/dist-packages (from pydantic<3.0.0,>=2.9.0->mistralai) (0.7.0)\n",
            "Requirement already satisfied: pydantic-core==2.23.4 in /usr/local/lib/python3.10/dist-packages (from pydantic<3.0.0,>=2.9.0->mistralai) (2.23.4)\n",
            "Requirement already satisfied: typing-extensions>=4.6.1 in /usr/local/lib/python3.10/dist-packages (from pydantic<3.0.0,>=2.9.0->mistralai) (4.12.2)\n",
            "Collecting mypy-extensions>=0.3.0 (from typing-inspect<0.10.0,>=0.9.0->mistralai)\n",
            "  Downloading mypy_extensions-1.0.0-py3-none-any.whl.metadata (1.1 kB)\n",
            "Requirement already satisfied: exceptiongroup in /usr/local/lib/python3.10/dist-packages (from anyio->httpx<0.28.0,>=0.27.0->mistralai) (1.2.2)\n",
            "Downloading mistralai-1.1.0-py3-none-any.whl (229 kB)\n",
            "\u001b[2K   \u001b[90m━━━━━━━━━━━━━━━━━━━━━━━━━━━━━━━━━━━━━━━━\u001b[0m \u001b[32m229.7/229.7 kB\u001b[0m \u001b[31m4.0 MB/s\u001b[0m eta \u001b[36m0:00:00\u001b[0m\n",
            "\u001b[?25hDownloading httpx-0.27.2-py3-none-any.whl (76 kB)\n",
            "\u001b[2K   \u001b[90m━━━━━━━━━━━━━━━━━━━━━━━━━━━━━━━━━━━━━━━━\u001b[0m \u001b[32m76.4/76.4 kB\u001b[0m \u001b[31m3.5 MB/s\u001b[0m eta \u001b[36m0:00:00\u001b[0m\n",
            "\u001b[?25hDownloading httpcore-1.0.5-py3-none-any.whl (77 kB)\n",
            "\u001b[2K   \u001b[90m━━━━━━━━━━━━━━━━━━━━━━━━━━━━━━━━━━━━━━━━\u001b[0m \u001b[32m77.9/77.9 kB\u001b[0m \u001b[31m5.6 MB/s\u001b[0m eta \u001b[36m0:00:00\u001b[0m\n",
            "\u001b[?25hDownloading jsonpath_python-1.0.6-py3-none-any.whl (7.6 kB)\n",
            "Downloading typing_inspect-0.9.0-py3-none-any.whl (8.8 kB)\n",
            "Downloading mypy_extensions-1.0.0-py3-none-any.whl (4.7 kB)\n",
            "Downloading h11-0.14.0-py3-none-any.whl (58 kB)\n",
            "\u001b[2K   \u001b[90m━━━━━━━━━━━━━━━━━━━━━━━━━━━━━━━━━━━━━━━━\u001b[0m \u001b[32m58.3/58.3 kB\u001b[0m \u001b[31m3.2 MB/s\u001b[0m eta \u001b[36m0:00:00\u001b[0m\n",
            "\u001b[?25hInstalling collected packages: mypy-extensions, jsonpath-python, h11, typing-inspect, httpcore, httpx, mistralai\n",
            "Successfully installed h11-0.14.0 httpcore-1.0.5 httpx-0.27.2 jsonpath-python-1.0.6 mistralai-1.1.0 mypy-extensions-1.0.0 typing-inspect-0.9.0\n"
          ]
        }
      ]
    },
    {
      "cell_type": "code",
      "source": [
        "import os\n",
        "from mistralai import Mistral\n",
        "from google.colab import userdata\n",
        "api_key = userdata.get('MISTRAL_API_KEY')\n",
        "\n",
        "# Specify model\n",
        "model = \"pixtral-12b-2409\"\n",
        "\n",
        "# Initialize the Mistral client\n",
        "client = Mistral(api_key=api_key)\n",
        "\n",
        "# Define the messages for the chat\n",
        "messages = [\n",
        "    {\n",
        "        \"role\": \"user\",\n",
        "        \"content\": [\n",
        "            {\n",
        "                \"type\": \"text\",\n",
        "                \"text\": \"What's in this image?\"\n",
        "            },\n",
        "            {\n",
        "                \"type\": \"image_url\",\n",
        "                \"image_url\": \"https://tripfixers.com/wp-content/uploads/2019/11/eiffel-tower-with-snow.jpeg\"\n",
        "            }\n",
        "        ]\n",
        "    }\n",
        "]\n",
        "\n",
        "# Get the chat response\n",
        "chat_response = client.chat.complete(\n",
        "    model=model,\n",
        "    messages=messages\n",
        ")\n",
        "\n",
        "# Print the content of the response\n",
        "print(chat_response.choices[0].message.content)\n"
      ],
      "metadata": {
        "id": "KNtpgybr8mXO",
        "outputId": "c0ce543f-1d1c-451c-f5f5-1b6bcb74c58c",
        "colab": {
          "base_uri": "https://localhost:8080/"
        }
      },
      "execution_count": 6,
      "outputs": [
        {
          "output_type": "stream",
          "name": "stdout",
          "text": [
            "The image features a serene landscape with a vast expanse of snow-covered terrain. There are distinct features resembling sand dunes, but the dunes are covered in snow. The sky overhead has a gradient of soft pastel colors, suggesting either sunrise or sunset. The horizon line is visible, and there's a sense of calm and tranquility in the scene.\n"
          ]
        }
      ]
    },
    {
      "cell_type": "markdown",
      "source": [
        "# Recreating the announcement post:\n",
        "\n",
        "Analyzing this image, what are the top 5 economies from Europe?\n",
        "\n",
        "![Image](https://mistral.ai/images/news/pixtral-12b/gdp.png)"
      ],
      "metadata": {
        "id": "-unY7-0a-ZdW"
      }
    },
    {
      "cell_type": "code",
      "source": [
        "# Define the messages for the chat\n",
        "messages = [\n",
        "    {\n",
        "        \"role\": \"user\",\n",
        "        \"content\": [\n",
        "            {\n",
        "                \"type\": \"text\",\n",
        "                \"text\": \"List the top 5 countries in Europe with the highest GDP\"\n",
        "            },\n",
        "            {\n",
        "                \"type\": \"image_url\",\n",
        "                \"image_url\": \"https://mistral.ai/images/news/pixtral-12b/gdp.png\"\n",
        "            }\n",
        "        ]\n",
        "    }\n",
        "]\n",
        "\n",
        "# Get the chat response\n",
        "chat_response = client.chat.complete(\n",
        "    model=model,\n",
        "    messages=messages\n",
        ")\n",
        "\n",
        "# Print the content of the response\n",
        "print(chat_response.choices[0].message.content)\n"
      ],
      "metadata": {
        "id": "ZcXzQPhI87At",
        "outputId": "99d103b8-9e03-42fb-f3b6-6d4f8a6d61d0",
        "colab": {
          "base_uri": "https://localhost:8080/"
        }
      },
      "execution_count": 4,
      "outputs": [
        {
          "output_type": "stream",
          "name": "stdout",
          "text": [
            "The top 5 countries in Europe with the highest GDP, based on the diagram, are:\n",
            "\n",
            "1. **Germany**\n",
            "   - GDP: $3.99T\n",
            "   - GDP Percentage: 4.65%\n",
            "\n",
            "2. ** United Kingdom**\n",
            "   - GDP: $2.82T\n",
            "   - GDP Percentage: 3.29%\n",
            "\n",
            "3. **France**\n",
            "   - GDP: $2.78T\n",
            "   - GDP Percentage: 3.24%\n",
            "\n",
            "4. **Italy**\n",
            "   - GDP: $2.07T\n",
            "   - GDP Percentage: 2.42%\n",
            "\n",
            "5. **Spain**\n",
            "   - GDP: $1.43T\n",
            "   - GDP Percentage: 1.66%\n",
            "\n",
            "These countries are highlighted in green on the diagram.\n"
          ]
        }
      ]
    },
    {
      "cell_type": "markdown",
      "source": [
        "Create a website based on this diagram:\n",
        "\n",
        "![Image](https://mistral.ai/images/news/pixtral-12b/image-to-code.jpg)"
      ],
      "metadata": {
        "id": "CsmImjWb_jH5"
      }
    },
    {
      "cell_type": "code",
      "source": [
        "# Define the messages for the chat\n",
        "messages = [\n",
        "    {\n",
        "        \"role\": \"user\",\n",
        "        \"content\": [\n",
        "            {\n",
        "                \"type\": \"text\",\n",
        "                \"text\": \"Write HTML code to create a website like this\"\n",
        "            },\n",
        "            {\n",
        "                \"type\": \"image_url\",\n",
        "                \"image_url\": \"https://mistral.ai/images/news/pixtral-12b/image-to-code.jpg\"\n",
        "            }\n",
        "        ]\n",
        "    }\n",
        "]\n",
        "\n",
        "# Get the chat response\n",
        "chat_response = client.chat.complete(\n",
        "    model=model,\n",
        "    messages=messages\n",
        ")\n",
        "\n",
        "# Print the content of the response\n",
        "print(chat_response.choices[0].message.content)\n"
      ],
      "metadata": {
        "collapsed": true,
        "id": "I8oYoFdH_Id4",
        "outputId": "c3f6c4df-c84e-4982-ac26-251ed5ef8f5e",
        "colab": {
          "base_uri": "https://localhost:8080/"
        }
      },
      "execution_count": 5,
      "outputs": [
        {
          "output_type": "stream",
          "name": "stdout",
          "text": [
            "To create a website similar to the one depicted in the image, you'll need a basic HTML structure. Below is an example of HTML code to create a simple webpage with a title, a dropdown menu for selecting an ice cream flavor, and a \"Next\" button.\n",
            "\n",
            "```html\n",
            "<!DOCTYPE html>\n",
            "<html lang=\"en\">\n",
            "<head>\n",
            "    <meta charset=\"UTF-8\">\n",
            "    <meta name=\"viewport\" content=\"width=device-width, initial-scale=1.0\">\n",
            "    <title>Pick an Ice Cream Flavor</title>\n",
            "    <style>\n",
            "        body {\n",
            "            font-family: Arial, sans-serif;\n",
            "            margin: 0;\n",
            "            padding: 0;\n",
            "            display: flex;\n",
            "            justify-content: center;\n",
            "            align-items: center;\n",
            "            height: 100vh;\n",
            "            background-color: #f0f0f0;\n",
            "        }\n",
            "        .container {\n",
            "            background-color: #fff;\n",
            "            padding: 20px;\n",
            "            box-shadow: 0 0 10px rgba(0, 0, 0, 0.1);\n",
            "            border-radius: 8px;\n",
            "            text-align: center;\n",
            "        }\n",
            "        h1 {\n",
            "            margin-bottom: 20px;\n",
            "        }\n",
            "        select {\n",
            "            padding: 10px;\n",
            "            margin-bottom: 20px;\n",
            "            border: 1px solid #ccc;\n",
            "            border-radius: 4px;\n",
            "        }\n",
            "        button {\n",
            "            padding: 10px 20px;\n",
            "            border: none;\n",
            "            background-color: #007bff;\n",
            "            color: white;\n",
            "            border-radius: 4px;\n",
            "            cursor: pointer;\n",
            "        }\n",
            "        button:hover {\n",
            "            background-color: #0056b3;\n",
            "        }\n",
            "    </style>\n",
            "</head>\n",
            "<body>\n",
            "    <div class=\"container\">\n",
            "        <h1>Pick an Ice Cream Flavor</h1>\n",
            "        <form>\n",
            "            <label for=\"flavor\">Flavor:</label>\n",
            "            <select id=\"flavor\" name=\"flavor\">\n",
            "                <option value=\"vanilla\">Vanilla</option>\n",
            "                <option value=\"chocolate\">Chocolate</option>\n",
            "                <option value=\"strawberry\">Strawberry</option>\n",
            "                <option value=\"coffee\">Coffee</option>\n",
            "                <!-- Add more flavors as needed -->\n",
            "            </select>\n",
            "            <button type=\"button\">Next</button>\n",
            "        </form>\n",
            "    </div>\n",
            "</body>\n",
            "</html>\n",
            "```\n",
            "\n",
            "### Explanation:\n",
            "1. **DOCTYPE and HTML Structure**: The document starts with `<!DOCTYPE html>` and includes the standard HTML structure with `<html>`, `<head>`, and `<body>` tags.\n",
            "2. **Meta Tags**: The `<meta>` tags ensure proper character encoding and responsive design.\n",
            "3. **Title**: The `<title>` tag sets the title of the webpage.\n",
            "4. **Style**: Basic CSS is included within a `<style>` tag to center the content and style the form elements.\n",
            "5. **Container**: A `div` with the class `container` is used to hold the content and center it on the page.\n",
            "6. **Form**: The form includes a dropdown (`<select>`) for selecting the ice cream flavor and a \"Next\" button (`<button>`).\n",
            "\n",
            "You can expand the `<select>` options by adding more `<option>` tags as needed for different flavors. The provided CSS ensures a clean, centered layout with some basic styling for the form elements.\n"
          ]
        }
      ]
    },
    {
      "cell_type": "markdown",
      "source": [
        "# Different images\n",
        "\n",
        "Let's see what happens if we use an image without a descriptive filename:\n",
        "\n",
        "URL: https://picsum.photos/id/30/600/300\n",
        "\n",
        "![Image](https://picsum.photos/id/30/600/300)"
      ],
      "metadata": {
        "id": "rH1DYDFfCv1u"
      }
    },
    {
      "cell_type": "code",
      "source": [
        "# Define the messages for the chat\n",
        "messages = [\n",
        "    {\n",
        "        \"role\": \"user\",\n",
        "        \"content\": [\n",
        "            {\n",
        "                \"type\": \"text\",\n",
        "                \"text\": \"What's in this image?\"\n",
        "            },\n",
        "            {\n",
        "                \"type\": \"image_url\",\n",
        "                \"image_url\": \"https://picsum.photos/id/30/600/300\"\n",
        "            }\n",
        "        ]\n",
        "    }\n",
        "]\n",
        "\n",
        "# Get the chat response\n",
        "chat_response = client.chat.complete(\n",
        "    model=model,\n",
        "    messages=messages\n",
        ")\n",
        "\n",
        "# Print the content of the response\n",
        "print(chat_response.choices[0].message.content)\n"
      ],
      "metadata": {
        "id": "LqHneUW9Ctas",
        "outputId": "07df544b-0bc9-468a-e960-e006f1e3f61f",
        "colab": {
          "base_uri": "https://localhost:8080/"
        }
      },
      "execution_count": 7,
      "outputs": [
        {
          "output_type": "stream",
          "name": "stdout",
          "text": [
            "The image features a white ceramic mug with a red design. The design appears to be a vintage or retro-style postage stamp. It has an image of what looks like Che Guevara, and the text \"CUBA\" and \"CUBANO 1960\" are prominently displayed. The mug is placed on a surface, and there is a blurred background that prevents identification of the specific setting.\n"
          ]
        }
      ]
    },
    {
      "cell_type": "markdown",
      "metadata": {
        "id": "yRKgXOWjsKtA"
      },
      "source": [
        "# Quantization\n",
        "\n"
      ]
    },
    {
      "cell_type": "code",
      "source": [],
      "metadata": {
        "id": "DK2Qma0t_6Cm"
      },
      "execution_count": null,
      "outputs": []
    }
  ],
  "metadata": {
    "colab": {
      "provenance": [],
      "toc_visible": true,
      "include_colab_link": true
    },
    "kernelspec": {
      "display_name": "Python 3",
      "name": "python3"
    },
    "language_info": {
      "name": "python"
    }
  },
  "nbformat": 4,
  "nbformat_minor": 0
}