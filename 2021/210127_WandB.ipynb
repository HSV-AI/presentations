{
  "nbformat": 4,
  "nbformat_minor": 0,
  "metadata": {
    "colab": {
      "name": "Topic_Modeling_LDA.ipynb",
      "provenance": [],
      "toc_visible": true,
      "include_colab_link": true
    },
    "kernelspec": {
      "display_name": "Python 3",
      "language": "python",
      "name": "python3"
    },
    "language_info": {
      "codemirror_mode": {
        "name": "ipython",
        "version": 3
      },
      "file_extension": ".py",
      "mimetype": "text/x-python",
      "name": "python",
      "nbconvert_exporter": "python",
      "pygments_lexer": "ipython3",
      "version": "3.6.12"
    },
    "widgets": {
      "application/vnd.jupyter.widget-state+json": {
        "cc683cc2e2a04d15b22273009054ea82": {
          "model_module": "@jupyter-widgets/controls",
          "model_name": "VBoxModel",
          "state": {
            "_view_name": "VBoxView",
            "_dom_classes": [],
            "_model_name": "VBoxModel",
            "_view_module": "@jupyter-widgets/controls",
            "_model_module_version": "1.5.0",
            "_view_count": null,
            "_view_module_version": "1.5.0",
            "box_style": "",
            "layout": "IPY_MODEL_c5d1209b847143deb7e2d8189f3aacfd",
            "_model_module": "@jupyter-widgets/controls",
            "children": [
              "IPY_MODEL_0b80ddd2f8d44cb4ba1d597a50db616c",
              "IPY_MODEL_3fd61990057049eb813cc7c9da3385af"
            ]
          }
        },
        "c5d1209b847143deb7e2d8189f3aacfd": {
          "model_module": "@jupyter-widgets/base",
          "model_name": "LayoutModel",
          "state": {
            "_view_name": "LayoutView",
            "grid_template_rows": null,
            "right": null,
            "justify_content": null,
            "_view_module": "@jupyter-widgets/base",
            "overflow": null,
            "_model_module_version": "1.2.0",
            "_view_count": null,
            "flex_flow": null,
            "width": null,
            "min_width": null,
            "border": null,
            "align_items": null,
            "bottom": null,
            "_model_module": "@jupyter-widgets/base",
            "top": null,
            "grid_column": null,
            "overflow_y": null,
            "overflow_x": null,
            "grid_auto_flow": null,
            "grid_area": null,
            "grid_template_columns": null,
            "flex": null,
            "_model_name": "LayoutModel",
            "justify_items": null,
            "grid_row": null,
            "max_height": null,
            "align_content": null,
            "visibility": null,
            "align_self": null,
            "height": null,
            "min_height": null,
            "padding": null,
            "grid_auto_rows": null,
            "grid_gap": null,
            "max_width": null,
            "order": null,
            "_view_module_version": "1.2.0",
            "grid_template_areas": null,
            "object_position": null,
            "object_fit": null,
            "grid_auto_columns": null,
            "margin": null,
            "display": null,
            "left": null
          }
        },
        "0b80ddd2f8d44cb4ba1d597a50db616c": {
          "model_module": "@jupyter-widgets/controls",
          "model_name": "LabelModel",
          "state": {
            "_view_name": "LabelView",
            "style": "IPY_MODEL_c78e7f22a46e4c6e8d176be25c97adda",
            "_dom_classes": [],
            "description": "",
            "_model_name": "LabelModel",
            "placeholder": "​",
            "_view_module": "@jupyter-widgets/controls",
            "_model_module_version": "1.5.0",
            "value": " 0.47MB of 0.47MB uploaded (0.00MB deduped)\r",
            "_view_count": null,
            "_view_module_version": "1.5.0",
            "description_tooltip": null,
            "_model_module": "@jupyter-widgets/controls",
            "layout": "IPY_MODEL_9d92fc3ab70b476196bb61f95484606c"
          }
        },
        "3fd61990057049eb813cc7c9da3385af": {
          "model_module": "@jupyter-widgets/controls",
          "model_name": "FloatProgressModel",
          "state": {
            "_view_name": "ProgressView",
            "style": "IPY_MODEL_67d7fc7eb12a48608baff26c4b8a3fc2",
            "_dom_classes": [],
            "description": "",
            "_model_name": "FloatProgressModel",
            "bar_style": "",
            "max": 1,
            "_view_module": "@jupyter-widgets/controls",
            "_model_module_version": "1.5.0",
            "value": 1,
            "_view_count": null,
            "_view_module_version": "1.5.0",
            "orientation": "horizontal",
            "min": 0,
            "description_tooltip": null,
            "_model_module": "@jupyter-widgets/controls",
            "layout": "IPY_MODEL_f4f3723480ec47bb98232ff7a0bef112"
          }
        },
        "c78e7f22a46e4c6e8d176be25c97adda": {
          "model_module": "@jupyter-widgets/controls",
          "model_name": "DescriptionStyleModel",
          "state": {
            "_view_name": "StyleView",
            "_model_name": "DescriptionStyleModel",
            "description_width": "",
            "_view_module": "@jupyter-widgets/base",
            "_model_module_version": "1.5.0",
            "_view_count": null,
            "_view_module_version": "1.2.0",
            "_model_module": "@jupyter-widgets/controls"
          }
        },
        "9d92fc3ab70b476196bb61f95484606c": {
          "model_module": "@jupyter-widgets/base",
          "model_name": "LayoutModel",
          "state": {
            "_view_name": "LayoutView",
            "grid_template_rows": null,
            "right": null,
            "justify_content": null,
            "_view_module": "@jupyter-widgets/base",
            "overflow": null,
            "_model_module_version": "1.2.0",
            "_view_count": null,
            "flex_flow": null,
            "width": null,
            "min_width": null,
            "border": null,
            "align_items": null,
            "bottom": null,
            "_model_module": "@jupyter-widgets/base",
            "top": null,
            "grid_column": null,
            "overflow_y": null,
            "overflow_x": null,
            "grid_auto_flow": null,
            "grid_area": null,
            "grid_template_columns": null,
            "flex": null,
            "_model_name": "LayoutModel",
            "justify_items": null,
            "grid_row": null,
            "max_height": null,
            "align_content": null,
            "visibility": null,
            "align_self": null,
            "height": null,
            "min_height": null,
            "padding": null,
            "grid_auto_rows": null,
            "grid_gap": null,
            "max_width": null,
            "order": null,
            "_view_module_version": "1.2.0",
            "grid_template_areas": null,
            "object_position": null,
            "object_fit": null,
            "grid_auto_columns": null,
            "margin": null,
            "display": null,
            "left": null
          }
        },
        "67d7fc7eb12a48608baff26c4b8a3fc2": {
          "model_module": "@jupyter-widgets/controls",
          "model_name": "ProgressStyleModel",
          "state": {
            "_view_name": "StyleView",
            "_model_name": "ProgressStyleModel",
            "description_width": "",
            "_view_module": "@jupyter-widgets/base",
            "_model_module_version": "1.5.0",
            "_view_count": null,
            "_view_module_version": "1.2.0",
            "bar_color": null,
            "_model_module": "@jupyter-widgets/controls"
          }
        },
        "f4f3723480ec47bb98232ff7a0bef112": {
          "model_module": "@jupyter-widgets/base",
          "model_name": "LayoutModel",
          "state": {
            "_view_name": "LayoutView",
            "grid_template_rows": null,
            "right": null,
            "justify_content": null,
            "_view_module": "@jupyter-widgets/base",
            "overflow": null,
            "_model_module_version": "1.2.0",
            "_view_count": null,
            "flex_flow": null,
            "width": null,
            "min_width": null,
            "border": null,
            "align_items": null,
            "bottom": null,
            "_model_module": "@jupyter-widgets/base",
            "top": null,
            "grid_column": null,
            "overflow_y": null,
            "overflow_x": null,
            "grid_auto_flow": null,
            "grid_area": null,
            "grid_template_columns": null,
            "flex": null,
            "_model_name": "LayoutModel",
            "justify_items": null,
            "grid_row": null,
            "max_height": null,
            "align_content": null,
            "visibility": null,
            "align_self": null,
            "height": null,
            "min_height": null,
            "padding": null,
            "grid_auto_rows": null,
            "grid_gap": null,
            "max_width": null,
            "order": null,
            "_view_module_version": "1.2.0",
            "grid_template_areas": null,
            "object_position": null,
            "object_fit": null,
            "grid_auto_columns": null,
            "margin": null,
            "display": null,
            "left": null
          }
        },
        "11c9b7a01a4f4cd19ba2de0cd341c519": {
          "model_module": "@jupyter-widgets/controls",
          "model_name": "VBoxModel",
          "state": {
            "_view_name": "VBoxView",
            "_dom_classes": [],
            "_model_name": "VBoxModel",
            "_view_module": "@jupyter-widgets/controls",
            "_model_module_version": "1.5.0",
            "_view_count": null,
            "_view_module_version": "1.5.0",
            "box_style": "",
            "layout": "IPY_MODEL_5a512c17aecd4dd8a5661e8b17e67f47",
            "_model_module": "@jupyter-widgets/controls",
            "children": [
              "IPY_MODEL_dbef858a2c3544bd9a20488524a5c42c",
              "IPY_MODEL_9ac25c3be6904fb5a1f0338fac8e8328"
            ]
          }
        },
        "5a512c17aecd4dd8a5661e8b17e67f47": {
          "model_module": "@jupyter-widgets/base",
          "model_name": "LayoutModel",
          "state": {
            "_view_name": "LayoutView",
            "grid_template_rows": null,
            "right": null,
            "justify_content": null,
            "_view_module": "@jupyter-widgets/base",
            "overflow": null,
            "_model_module_version": "1.2.0",
            "_view_count": null,
            "flex_flow": null,
            "width": null,
            "min_width": null,
            "border": null,
            "align_items": null,
            "bottom": null,
            "_model_module": "@jupyter-widgets/base",
            "top": null,
            "grid_column": null,
            "overflow_y": null,
            "overflow_x": null,
            "grid_auto_flow": null,
            "grid_area": null,
            "grid_template_columns": null,
            "flex": null,
            "_model_name": "LayoutModel",
            "justify_items": null,
            "grid_row": null,
            "max_height": null,
            "align_content": null,
            "visibility": null,
            "align_self": null,
            "height": null,
            "min_height": null,
            "padding": null,
            "grid_auto_rows": null,
            "grid_gap": null,
            "max_width": null,
            "order": null,
            "_view_module_version": "1.2.0",
            "grid_template_areas": null,
            "object_position": null,
            "object_fit": null,
            "grid_auto_columns": null,
            "margin": null,
            "display": null,
            "left": null
          }
        },
        "dbef858a2c3544bd9a20488524a5c42c": {
          "model_module": "@jupyter-widgets/controls",
          "model_name": "LabelModel",
          "state": {
            "_view_name": "LabelView",
            "style": "IPY_MODEL_6be1ca90c56e43b384efc3f557a54c0b",
            "_dom_classes": [],
            "description": "",
            "_model_name": "LabelModel",
            "placeholder": "​",
            "_view_module": "@jupyter-widgets/controls",
            "_model_module_version": "1.5.0",
            "value": " 0.23MB of 0.23MB uploaded (0.00MB deduped)\r",
            "_view_count": null,
            "_view_module_version": "1.5.0",
            "description_tooltip": null,
            "_model_module": "@jupyter-widgets/controls",
            "layout": "IPY_MODEL_8891c3f95c18485aad57839429ed669b"
          }
        },
        "9ac25c3be6904fb5a1f0338fac8e8328": {
          "model_module": "@jupyter-widgets/controls",
          "model_name": "FloatProgressModel",
          "state": {
            "_view_name": "ProgressView",
            "style": "IPY_MODEL_43699b222dc24342af88fcfc00f41a00",
            "_dom_classes": [],
            "description": "",
            "_model_name": "FloatProgressModel",
            "bar_style": "",
            "max": 1,
            "_view_module": "@jupyter-widgets/controls",
            "_model_module_version": "1.5.0",
            "value": 1,
            "_view_count": null,
            "_view_module_version": "1.5.0",
            "orientation": "horizontal",
            "min": 0,
            "description_tooltip": null,
            "_model_module": "@jupyter-widgets/controls",
            "layout": "IPY_MODEL_0065c71fd2844028a82df4b0a2cc16af"
          }
        },
        "6be1ca90c56e43b384efc3f557a54c0b": {
          "model_module": "@jupyter-widgets/controls",
          "model_name": "DescriptionStyleModel",
          "state": {
            "_view_name": "StyleView",
            "_model_name": "DescriptionStyleModel",
            "description_width": "",
            "_view_module": "@jupyter-widgets/base",
            "_model_module_version": "1.5.0",
            "_view_count": null,
            "_view_module_version": "1.2.0",
            "_model_module": "@jupyter-widgets/controls"
          }
        },
        "8891c3f95c18485aad57839429ed669b": {
          "model_module": "@jupyter-widgets/base",
          "model_name": "LayoutModel",
          "state": {
            "_view_name": "LayoutView",
            "grid_template_rows": null,
            "right": null,
            "justify_content": null,
            "_view_module": "@jupyter-widgets/base",
            "overflow": null,
            "_model_module_version": "1.2.0",
            "_view_count": null,
            "flex_flow": null,
            "width": null,
            "min_width": null,
            "border": null,
            "align_items": null,
            "bottom": null,
            "_model_module": "@jupyter-widgets/base",
            "top": null,
            "grid_column": null,
            "overflow_y": null,
            "overflow_x": null,
            "grid_auto_flow": null,
            "grid_area": null,
            "grid_template_columns": null,
            "flex": null,
            "_model_name": "LayoutModel",
            "justify_items": null,
            "grid_row": null,
            "max_height": null,
            "align_content": null,
            "visibility": null,
            "align_self": null,
            "height": null,
            "min_height": null,
            "padding": null,
            "grid_auto_rows": null,
            "grid_gap": null,
            "max_width": null,
            "order": null,
            "_view_module_version": "1.2.0",
            "grid_template_areas": null,
            "object_position": null,
            "object_fit": null,
            "grid_auto_columns": null,
            "margin": null,
            "display": null,
            "left": null
          }
        },
        "43699b222dc24342af88fcfc00f41a00": {
          "model_module": "@jupyter-widgets/controls",
          "model_name": "ProgressStyleModel",
          "state": {
            "_view_name": "StyleView",
            "_model_name": "ProgressStyleModel",
            "description_width": "",
            "_view_module": "@jupyter-widgets/base",
            "_model_module_version": "1.5.0",
            "_view_count": null,
            "_view_module_version": "1.2.0",
            "bar_color": null,
            "_model_module": "@jupyter-widgets/controls"
          }
        },
        "0065c71fd2844028a82df4b0a2cc16af": {
          "model_module": "@jupyter-widgets/base",
          "model_name": "LayoutModel",
          "state": {
            "_view_name": "LayoutView",
            "grid_template_rows": null,
            "right": null,
            "justify_content": null,
            "_view_module": "@jupyter-widgets/base",
            "overflow": null,
            "_model_module_version": "1.2.0",
            "_view_count": null,
            "flex_flow": null,
            "width": null,
            "min_width": null,
            "border": null,
            "align_items": null,
            "bottom": null,
            "_model_module": "@jupyter-widgets/base",
            "top": null,
            "grid_column": null,
            "overflow_y": null,
            "overflow_x": null,
            "grid_auto_flow": null,
            "grid_area": null,
            "grid_template_columns": null,
            "flex": null,
            "_model_name": "LayoutModel",
            "justify_items": null,
            "grid_row": null,
            "max_height": null,
            "align_content": null,
            "visibility": null,
            "align_self": null,
            "height": null,
            "min_height": null,
            "padding": null,
            "grid_auto_rows": null,
            "grid_gap": null,
            "max_width": null,
            "order": null,
            "_view_module_version": "1.2.0",
            "grid_template_areas": null,
            "object_position": null,
            "object_fit": null,
            "grid_auto_columns": null,
            "margin": null,
            "display": null,
            "left": null
          }
        }
      }
    }
  },
  "cells": [
    {
      "cell_type": "markdown",
      "metadata": {
        "id": "view-in-github",
        "colab_type": "text"
      },
      "source": [
        "<a href=\"https://colab.research.google.com/github/HSV-AI/presentations/blob/master/2021/210127_WandB.ipynb\" target=\"_parent\"><img src=\"https://colab.research.google.com/assets/colab-badge.svg\" alt=\"Open In Colab\"/></a>"
      ]
    },
    {
      "cell_type": "markdown",
      "metadata": {
        "id": "VJqMRMXnECyo"
      },
      "source": [
        "![HSV-AI Logo](https://github.com/HSV-AI/hugo-website/blob/master/static/images/logo_v9.png?raw=true)\n",
        "\n",
        "This notebook is a copy of the LDA notebook in the [Bug Analysis](https://github.com/HSV-AI/bug-analysis/blob/master/notebooks/Topic_Modeling_LDA.ipynb) project."
      ]
    },
    {
      "cell_type": "markdown",
      "metadata": {
        "id": "3cOYrE4yJ8DI"
      },
      "source": [
        "## Global Imports"
      ]
    },
    {
      "cell_type": "code",
      "metadata": {
        "id": "f1VDjQVNjbuE"
      },
      "source": [
        "from datetime import date\n",
        "from datetime import time\n",
        "from datetime import datetime\n",
        "from time import sleep\n",
        "from math import ceil\n",
        "from dateutil import parser\n",
        "import pandas as pd\n",
        "import numpy as np\n",
        "import matplotlib.pyplot as plt\n",
        "import re\n",
        "import pandas as pd\n",
        "import numpy as np\n",
        "import matplotlib.pyplot as plt\n",
        "from sklearn.feature_extraction.text import CountVectorizer\n",
        "from sklearn.decomposition import LatentDirichletAllocation\n",
        "from sklearn.decomposition import PCA\n",
        "import pyLDAvis\n",
        "import pyLDAvis.sklearn"
      ],
      "execution_count": 24,
      "outputs": []
    },
    {
      "cell_type": "markdown",
      "metadata": {
        "id": "vOHqSvA2E6tS"
      },
      "source": [
        "# Loading Bugzilla Data"
      ]
    },
    {
      "cell_type": "code",
      "metadata": {
        "id": "EwMnOTnfjbuI"
      },
      "source": [
        "df = pd.read_parquet('https://github.com/HSV-AI/bug-analysis/blob/master/data/df-xtext.parquet.gzip?raw=true')"
      ],
      "execution_count": 5,
      "outputs": []
    },
    {
      "cell_type": "markdown",
      "metadata": {
        "id": "GZt0j1BAvJ5K"
      },
      "source": [
        "# Weights and Biases Install and Login\r\n",
        "\r\n",
        "This was copied from the WandB [quickstart](https://docs.wandb.ai/quickstart)\r\n",
        "\r\n"
      ]
    },
    {
      "cell_type": "code",
      "metadata": {
        "id": "vO_DVaRRucdB"
      },
      "source": [
        "%%capture\r\n",
        "!pip install wandb -qqq\r\n",
        "import wandb"
      ],
      "execution_count": 2,
      "outputs": []
    },
    {
      "cell_type": "code",
      "metadata": {
        "id": "J5SAYvWPMPWW",
        "colab": {
          "base_uri": "https://localhost:8080/",
          "height": 967,
          "referenced_widgets": [
            "cc683cc2e2a04d15b22273009054ea82",
            "c5d1209b847143deb7e2d8189f3aacfd",
            "0b80ddd2f8d44cb4ba1d597a50db616c",
            "3fd61990057049eb813cc7c9da3385af",
            "c78e7f22a46e4c6e8d176be25c97adda",
            "9d92fc3ab70b476196bb61f95484606c",
            "67d7fc7eb12a48608baff26c4b8a3fc2",
            "f4f3723480ec47bb98232ff7a0bef112"
          ]
        },
        "outputId": "747d63ce-4ad9-4244-f47a-6229bfa7f031"
      },
      "source": [
        "run = wandb.init(project=\"topic-modeling-lda\", reinit=True)"
      ],
      "execution_count": 33,
      "outputs": [
        {
          "output_type": "display_data",
          "data": {
            "text/html": [
              "Finishing last run (ID:3dagw15m) before initializing another..."
            ],
            "text/plain": [
              "<IPython.core.display.HTML object>"
            ]
          },
          "metadata": {
            "tags": []
          }
        },
        {
          "output_type": "display_data",
          "data": {
            "text/html": [
              "<br/>Waiting for W&B process to finish, PID 331<br/>Program ended successfully."
            ],
            "text/plain": [
              "<IPython.core.display.HTML object>"
            ]
          },
          "metadata": {
            "tags": []
          }
        },
        {
          "output_type": "display_data",
          "data": {
            "application/vnd.jupyter.widget-view+json": {
              "model_id": "cc683cc2e2a04d15b22273009054ea82",
              "version_minor": 0,
              "version_major": 2
            },
            "text/plain": [
              "VBox(children=(Label(value=' 0.44MB of 0.44MB uploaded (0.00MB deduped)\\r'), FloatProgress(value=1.0, max=1.0)…"
            ]
          },
          "metadata": {
            "tags": []
          }
        },
        {
          "output_type": "display_data",
          "data": {
            "text/html": [
              "Find user logs for this run at: <code>/content/wandb/run-20210128_041351-3dagw15m/logs/debug.log</code>"
            ],
            "text/plain": [
              "<IPython.core.display.HTML object>"
            ]
          },
          "metadata": {
            "tags": []
          }
        },
        {
          "output_type": "display_data",
          "data": {
            "text/html": [
              "Find internal logs for this run at: <code>/content/wandb/run-20210128_041351-3dagw15m/logs/debug-internal.log</code>"
            ],
            "text/plain": [
              "<IPython.core.display.HTML object>"
            ]
          },
          "metadata": {
            "tags": []
          }
        },
        {
          "output_type": "display_data",
          "data": {
            "text/html": [
              "<h3>Run summary:</h3><br/><style>\n",
              "    table.wandb td:nth-child(1) { padding: 0 10px; text-align: right }\n",
              "    </style><table class=\"wandb\">\n",
              "<tr><td>max_df</td><td>0.8</td></tr><tr><td>min_df</td><td>5</td></tr><tr><td>_step</td><td>12</td></tr><tr><td>_runtime</td><td>1666</td></tr><tr><td>_timestamp</td><td>1611808897</td></tr><tr><td>data_sparsicity</td><td>1.22887</td></tr><tr><td>n_components</td><td>15</td></tr><tr><td>max_iter</td><td>5</td></tr><tr><td>learning_offset</td><td>50</td></tr><tr><td>learning_method</td><td>online</td></tr><tr><td>random_state</td><td>0</td></tr><tr><td>score</td><td>-11152386.41522</td></tr><tr><td>perplexity</td><td>502.95997</td></tr></table>"
            ],
            "text/plain": [
              "<IPython.core.display.HTML object>"
            ]
          },
          "metadata": {
            "tags": []
          }
        },
        {
          "output_type": "display_data",
          "data": {
            "text/html": [
              "<h3>Run history:</h3><br/><style>\n",
              "    table.wandb td:nth-child(1) { padding: 0 10px; text-align: right }\n",
              "    </style><table class=\"wandb\">\n",
              "<tr><td>max_df</td><td>▁█</td></tr><tr><td>min_df</td><td>█▁</td></tr><tr><td>_step</td><td>▁▂▂▃▃▄▅▅▆▆▇▇█</td></tr><tr><td>_runtime</td><td>▁▁▁▁▂▃▃▄█████</td></tr><tr><td>_timestamp</td><td>▁▁▁▁▂▃▃▄█████</td></tr><tr><td>data_sparsicity</td><td>█▁</td></tr><tr><td>n_components</td><td>▁▁▁▁</td></tr><tr><td>max_iter</td><td>▁▁▁▁</td></tr><tr><td>learning_offset</td><td>▁▁▁▁</td></tr><tr><td>random_state</td><td>▁▁</td></tr><tr><td>score</td><td>██▁</td></tr><tr><td>perplexity</td><td>██▁</td></tr></table><br/>"
            ],
            "text/plain": [
              "<IPython.core.display.HTML object>"
            ]
          },
          "metadata": {
            "tags": []
          }
        },
        {
          "output_type": "display_data",
          "data": {
            "text/html": [
              "Synced 5 W&B file(s), 2 media file(s), 0 artifact file(s) and 0 other file(s)"
            ],
            "text/plain": [
              "<IPython.core.display.HTML object>"
            ]
          },
          "metadata": {
            "tags": []
          }
        },
        {
          "output_type": "display_data",
          "data": {
            "text/html": [
              "\n",
              "                    <br/>Synced <strong style=\"color:#cdcd00\">tough-river-4</strong>: <a href=\"https://wandb.ai/jperiodlangley/topic-modeling-lda/runs/3dagw15m\" target=\"_blank\">https://wandb.ai/jperiodlangley/topic-modeling-lda/runs/3dagw15m</a><br/>\n",
              "                "
            ],
            "text/plain": [
              "<IPython.core.display.HTML object>"
            ]
          },
          "metadata": {
            "tags": []
          }
        },
        {
          "output_type": "display_data",
          "data": {
            "text/html": [
              "...Successfully finished last run (ID:3dagw15m). Initializing new run:<br/><br/>"
            ],
            "text/plain": [
              "<IPython.core.display.HTML object>"
            ]
          },
          "metadata": {
            "tags": []
          }
        },
        {
          "output_type": "display_data",
          "data": {
            "text/html": [
              "\n",
              "                Tracking run with wandb version 0.10.15<br/>\n",
              "                Syncing run <strong style=\"color:#cdcd00\">lunar-shadow-5</strong> to <a href=\"https://wandb.ai\" target=\"_blank\">Weights & Biases</a> <a href=\"https://docs.wandb.com/integrations/jupyter.html\" target=\"_blank\">(Documentation)</a>.<br/>\n",
              "                Project page: <a href=\"https://wandb.ai/jperiodlangley/topic-modeling-lda\" target=\"_blank\">https://wandb.ai/jperiodlangley/topic-modeling-lda</a><br/>\n",
              "                Run page: <a href=\"https://wandb.ai/jperiodlangley/topic-modeling-lda/runs/13l24qjz\" target=\"_blank\">https://wandb.ai/jperiodlangley/topic-modeling-lda/runs/13l24qjz</a><br/>\n",
              "                Run data is saved locally in <code>/content/wandb/run-20210128_044610-13l24qjz</code><br/><br/>\n",
              "            "
            ],
            "text/plain": [
              "<IPython.core.display.HTML object>"
            ]
          },
          "metadata": {
            "tags": []
          }
        }
      ]
    },
    {
      "cell_type": "markdown",
      "metadata": {
        "id": "wHfdBOKEECzF"
      },
      "source": [
        "# Create a CountVectorizer\n",
        "\n",
        "Need to figure out what the optimum data sparsity is here. Also need to figure out a bettwer set of stop words."
      ]
    },
    {
      "cell_type": "code",
      "metadata": {
        "colab": {
          "base_uri": "https://localhost:8080/"
        },
        "id": "BG_QVpqQECzG",
        "outputId": "9768bdcc-47f6-47ea-b76b-236a210ee0e3"
      },
      "source": [
        "vectorizer_params = { 'max_df':0.8, 'min_df':5}\n",
        "\n",
        "wandb.log(vectorizer_params)\n",
        "tf_vectorizer = CountVectorizer(**vectorizer_params)\n",
        "tf = tf_vectorizer.fit_transform(df.loc[:,'text'])\n",
        "tf_feature_names = tf_vectorizer.get_feature_names()\n",
        "# Materialize the sparse data\n",
        "dense = tf.todense()\n",
        "\n",
        "data_sparsicity = ((dense > 0).sum()/dense.size)*100\n",
        "wandb.log({'data_sparsicity':data_sparsicity})\n",
        "# Compute Sparsicity = Percentage of Non-Zero cells\n",
        "print(\"Data Sparsicity:\", data_sparsicity, \"%\")\n",
        "print(\"Stop Word Count:\",len(tf_vectorizer.stop_words_))"
      ],
      "execution_count": 34,
      "outputs": [
        {
          "output_type": "stream",
          "text": [
            "Data Sparsicity: 1.2288689104602475 %\n",
            "Stop Word Count: 35588\n"
          ],
          "name": "stdout"
        }
      ]
    },
    {
      "cell_type": "markdown",
      "metadata": {
        "id": "rJKUYvnfjbuN"
      },
      "source": [
        "# LDA\n",
        "\n",
        "For LDA, check the perplexity. The lower the better."
      ]
    },
    {
      "cell_type": "code",
      "metadata": {
        "colab": {
          "base_uri": "https://localhost:8080/"
        },
        "id": "PG_vZOUGECzK",
        "scrolled": true,
        "outputId": "fd3524ab-c5cb-4729-b8a3-8d7e9703fd16"
      },
      "source": [
        "lda_params = {\n",
        "    'n_components':15,\n",
        "    'max_iter':5,\n",
        "    'learning_offset':50\n",
        "}\n",
        "wandb.log(lda_params)\n",
        "\n",
        "# Add constant params\n",
        "lda_params['learning_method'] = 'online'\n",
        "lda_params['random_state'] = 0\n",
        "\n",
        "# Run LDA\n",
        "lda = LatentDirichletAllocation(**lda_params).fit(tf)\n",
        "\n",
        "score = lda.score(tf)\n",
        "perplexity = lda.perplexity(tf)\n",
        "\n",
        "wandb.log({\n",
        "    'score':score,\n",
        "    'perplexity':perplexity\n",
        "})\n",
        "print(\"\\nLog Likelihood: %d ## Perplexity: %d\\n\" % ((lda.score(tf)), lda.perplexity(tf)))\n"
      ],
      "execution_count": 35,
      "outputs": [
        {
          "output_type": "stream",
          "text": [
            "\n",
            "Log Likelihood: -11152386 ## Perplexity: 502\n",
            "\n"
          ],
          "name": "stdout"
        }
      ]
    },
    {
      "cell_type": "markdown",
      "metadata": {
        "id": "rOR4JkoRECzz"
      },
      "source": [
        "# Visualize the Results\n",
        "\n",
        "This section uses several methods to visualize the results of the LDA.\n",
        "\n",
        "Using PCA, create a 2D Visualizaton of the TF/IDF Matrix."
      ]
    },
    {
      "cell_type": "code",
      "metadata": {
        "id": "EceoJwwoP-lb",
        "outputId": "57b8ef47-371f-4f36-9a93-a0304999963b",
        "colab": {
          "base_uri": "https://localhost:8080/"
        }
      },
      "source": [
        "# Print the top 5 words in each topic\r\n",
        "num_words = 5\r\n",
        "print('LDA Topics: ')\r\n",
        "for topic_idx, topic in enumerate(lda.components_):\r\n",
        "    print (\"Topic %d:\" % (topic_idx), \" \".join([tf_feature_names[i] for i in topic.argsort()[:-num_words - 1:-1]]))"
      ],
      "execution_count": 36,
      "outputs": [
        {
          "output_type": "stream",
          "text": [
            "LDA Topics: \n",
            "Topic 0: typesystem xbase xtext rawtypeconformancecomputer intellij\n",
            "Topic 1: javareconcilingstrategy projectconfigurationmanager equinoxbundle mavenexecutioncontext moduleclassloader\n",
            "Topic 2: e4 partrenderingengine workbench swt ui\n",
            "Topic 3: outline formatting editor formatter jvmmodel\n",
            "Topic 4: org eclipse xtext http from\n",
            "Topic 5: com google inject injectorimpl elements\n",
            "Topic 6: ide guava shared jetty awt\n",
            "Topic 7: line object thread string run\n",
            "Topic 8: refactoring deltaconverter storage2urimapperjavaimpl deltaprocessor resource\n",
            "Topic 9: is that and of this\n",
            "Topic 10: java at eclipse org internal\n",
            "Topic 11: xtext org java eclipse common\n",
            "Topic 12: buildmanager builder xbase events xtextbuilder\n",
            "Topic 13: emf generator mwe2 antlr mwe\n",
            "Topic 14: may of and https your\n"
          ],
          "name": "stdout"
        }
      ]
    },
    {
      "cell_type": "code",
      "metadata": {
        "id": "x-jLbUR_ECz0",
        "scrolled": true
      },
      "source": [
        "\n",
        "X = tf.todense()\n",
        "\n",
        "pca = PCA(n_components=2).fit(X)\n",
        "data2D = pca.transform(X)\n",
        "plt.scatter(data2D[:,0], data2D[:,1])\n",
        "plt.plot()\n",
        "\n",
        "wandb.log({'PCA Scatter': plt})"
      ],
      "execution_count": 37,
      "outputs": []
    },
    {
      "cell_type": "code",
      "metadata": {
        "id": "A_DacmZlT_mx",
        "outputId": "1c27f7ee-c064-4e42-91fb-6969a8a17c78",
        "colab": {
          "base_uri": "https://localhost:8080/",
          "height": 751,
          "referenced_widgets": [
            "11c9b7a01a4f4cd19ba2de0cd341c519",
            "5a512c17aecd4dd8a5661e8b17e67f47",
            "dbef858a2c3544bd9a20488524a5c42c",
            "9ac25c3be6904fb5a1f0338fac8e8328",
            "6be1ca90c56e43b384efc3f557a54c0b",
            "8891c3f95c18485aad57839429ed669b",
            "43699b222dc24342af88fcfc00f41a00",
            "0065c71fd2844028a82df4b0a2cc16af"
          ]
        }
      },
      "source": [
        "run.finish()"
      ],
      "execution_count": 38,
      "outputs": [
        {
          "output_type": "display_data",
          "data": {
            "text/html": [
              "<br/>Waiting for W&B process to finish, PID 688<br/>Program ended successfully."
            ],
            "text/plain": [
              "<IPython.core.display.HTML object>"
            ]
          },
          "metadata": {
            "tags": []
          }
        },
        {
          "output_type": "display_data",
          "data": {
            "application/vnd.jupyter.widget-view+json": {
              "model_id": "11c9b7a01a4f4cd19ba2de0cd341c519",
              "version_minor": 0,
              "version_major": 2
            },
            "text/plain": [
              "VBox(children=(Label(value=' 0.22MB of 0.22MB uploaded (0.00MB deduped)\\r'), FloatProgress(value=1.0, max=1.0)…"
            ]
          },
          "metadata": {
            "tags": []
          }
        },
        {
          "output_type": "display_data",
          "data": {
            "text/html": [
              "Find user logs for this run at: <code>/content/wandb/run-20210128_044610-13l24qjz/logs/debug.log</code>"
            ],
            "text/plain": [
              "<IPython.core.display.HTML object>"
            ]
          },
          "metadata": {
            "tags": []
          }
        },
        {
          "output_type": "display_data",
          "data": {
            "text/html": [
              "Find internal logs for this run at: <code>/content/wandb/run-20210128_044610-13l24qjz/logs/debug-internal.log</code>"
            ],
            "text/plain": [
              "<IPython.core.display.HTML object>"
            ]
          },
          "metadata": {
            "tags": []
          }
        },
        {
          "output_type": "display_data",
          "data": {
            "text/html": [
              "<h3>Run summary:</h3><br/><style>\n",
              "    table.wandb td:nth-child(1) { padding: 0 10px; text-align: right }\n",
              "    </style><table class=\"wandb\">\n",
              "<tr><td>max_df</td><td>0.8</td></tr><tr><td>min_df</td><td>5</td></tr><tr><td>_step</td><td>4</td></tr><tr><td>_runtime</td><td>103</td></tr><tr><td>_timestamp</td><td>1611809276</td></tr><tr><td>data_sparsicity</td><td>1.22887</td></tr><tr><td>n_components</td><td>15</td></tr><tr><td>max_iter</td><td>5</td></tr><tr><td>learning_offset</td><td>50</td></tr><tr><td>score</td><td>-11152386.41522</td></tr><tr><td>perplexity</td><td>502.95997</td></tr></table>"
            ],
            "text/plain": [
              "<IPython.core.display.HTML object>"
            ]
          },
          "metadata": {
            "tags": []
          }
        },
        {
          "output_type": "display_data",
          "data": {
            "text/html": [
              "<h3>Run history:</h3><br/><style>\n",
              "    table.wandb td:nth-child(1) { padding: 0 10px; text-align: right }\n",
              "    </style><table class=\"wandb\">\n",
              "<tr><td>max_df</td><td>▁</td></tr><tr><td>min_df</td><td>▁</td></tr><tr><td>_step</td><td>▁▃▅▆█</td></tr><tr><td>_runtime</td><td>▁▁▂▆█</td></tr><tr><td>_timestamp</td><td>▁▁▂▆█</td></tr><tr><td>data_sparsicity</td><td>▁</td></tr><tr><td>n_components</td><td>▁</td></tr><tr><td>max_iter</td><td>▁</td></tr><tr><td>learning_offset</td><td>▁</td></tr><tr><td>score</td><td>▁</td></tr><tr><td>perplexity</td><td>▁</td></tr></table><br/>"
            ],
            "text/plain": [
              "<IPython.core.display.HTML object>"
            ]
          },
          "metadata": {
            "tags": []
          }
        },
        {
          "output_type": "display_data",
          "data": {
            "text/html": [
              "Synced 5 W&B file(s), 1 media file(s), 0 artifact file(s) and 0 other file(s)"
            ],
            "text/plain": [
              "<IPython.core.display.HTML object>"
            ]
          },
          "metadata": {
            "tags": []
          }
        },
        {
          "output_type": "display_data",
          "data": {
            "text/html": [
              "\n",
              "                    <br/>Synced <strong style=\"color:#cdcd00\">lunar-shadow-5</strong>: <a href=\"https://wandb.ai/jperiodlangley/topic-modeling-lda/runs/13l24qjz\" target=\"_blank\">https://wandb.ai/jperiodlangley/topic-modeling-lda/runs/13l24qjz</a><br/>\n",
              "                "
            ],
            "text/plain": [
              "<IPython.core.display.HTML object>"
            ]
          },
          "metadata": {
            "tags": []
          }
        }
      ]
    }
  ]
}