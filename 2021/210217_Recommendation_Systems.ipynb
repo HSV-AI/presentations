{
  "nbformat": 4,
  "nbformat_minor": 0,
  "metadata": {
    "kernelspec": {
      "display_name": "Python 3.6.7 64-bit ('anaconda': virtualenv)",
      "language": "python",
      "name": "python36764bitanacondavirtualenvb58dd6c6b1a94502be7b539be867f03a"
    },
    "language_info": {
      "codemirror_mode": {
        "name": "ipython",
        "version": 3
      },
      "file_extension": ".py",
      "mimetype": "text/x-python",
      "name": "python",
      "nbconvert_exporter": "python",
      "pygments_lexer": "ipython3",
      "version": "3.6.12"
    },
    "colab": {
      "name": "210217_Recommendation_Systems.ipynb",
      "provenance": [],
      "include_colab_link": true
    }
  },
  "cells": [
    {
      "cell_type": "markdown",
      "metadata": {
        "id": "view-in-github",
        "colab_type": "text"
      },
      "source": [
        "<a href=\"https://colab.research.google.com/github/HSV-AI/presentations/blob/master/2021/210217_Recommendation_Systems.ipynb\" target=\"_parent\"><img src=\"https://colab.research.google.com/assets/colab-badge.svg\" alt=\"Open In Colab\"/></a>"
      ]
    },
    {
      "cell_type": "markdown",
      "metadata": {
        "id": "lQq3RxmsIlO3"
      },
      "source": [
        "![HSV-AI Logo](https://github.com/HSV-AI/hugo-website/blob/master/static/images/logo_v9.png?raw=true)\r\n",
        "\r\n",
        "# Quick Start for Recommendation Systems\r\n",
        "\r\n",
        "Agenda:\r\n",
        "- Welcome\r\n",
        "- Project updates\r\n",
        "-- New Century High School Computer Science Club - presented to Committee of 100\r\n",
        "-- Bug Analysis NLP - working to get WandB included for training\r\n",
        "- Current news\r\n",
        "- Presentation on Recommendation Systems\r\n",
        "- Q&A\r\n",
        "- Close\r\n",
        "\r\n",
        "We will start with a common dataset used for exploring recommendation systems, the [MovieLens Dataset](http://grouplens.org/datasets/movielens/)\r\n",
        "\r\n",
        "We will also use the [Surprise](http://surpriselib.com/) library to build a few different recommendation systems and look at their accuracy for the dataset.\r\n",
        "\r\n",
        "The name SurPRISE (roughly :) ) stands for Simple Python RecommendatIon System Engine."
      ]
    },
    {
      "cell_type": "code",
      "metadata": {
        "colab": {
          "base_uri": "https://localhost:8080/"
        },
        "id": "HpX_iOxJGIvm",
        "outputId": "b13b4e5e-8b52-4a21-d171-07abbf2ddf2e"
      },
      "source": [
        "!pip install scikit-surprise"
      ],
      "execution_count": 1,
      "outputs": [
        {
          "output_type": "stream",
          "text": [
            "Collecting scikit-surprise\n",
            "\u001b[?25l  Downloading https://files.pythonhosted.org/packages/97/37/5d334adaf5ddd65da99fc65f6507e0e4599d092ba048f4302fe8775619e8/scikit-surprise-1.1.1.tar.gz (11.8MB)\n",
            "\u001b[K     |████████████████████████████████| 11.8MB 11.3MB/s \n",
            "\u001b[?25hRequirement already satisfied: joblib>=0.11 in /usr/local/lib/python3.6/dist-packages (from scikit-surprise) (1.0.0)\n",
            "Requirement already satisfied: numpy>=1.11.2 in /usr/local/lib/python3.6/dist-packages (from scikit-surprise) (1.19.5)\n",
            "Requirement already satisfied: scipy>=1.0.0 in /usr/local/lib/python3.6/dist-packages (from scikit-surprise) (1.4.1)\n",
            "Requirement already satisfied: six>=1.10.0 in /usr/local/lib/python3.6/dist-packages (from scikit-surprise) (1.15.0)\n",
            "Building wheels for collected packages: scikit-surprise\n",
            "  Building wheel for scikit-surprise (setup.py) ... \u001b[?25l\u001b[?25hdone\n",
            "  Created wheel for scikit-surprise: filename=scikit_surprise-1.1.1-cp36-cp36m-linux_x86_64.whl size=1618281 sha256=23f6f106be8297618372587f2504daf0f6d7a05a28b2a12d340a5021f8ccd370\n",
            "  Stored in directory: /root/.cache/pip/wheels/78/9c/3d/41b419c9d2aff5b6e2b4c0fc8d25c538202834058f9ed110d0\n",
            "Successfully built scikit-surprise\n",
            "Installing collected packages: scikit-surprise\n",
            "Successfully installed scikit-surprise-1.1.1\n"
          ],
          "name": "stdout"
        }
      ]
    },
    {
      "cell_type": "code",
      "metadata": {
        "id": "DyCwlfohPsJC"
      },
      "source": [
        "# Global imports\r\n",
        "import pandas as pd\r\n",
        "import io\r\n",
        "import os\r\n",
        "from collections import defaultdict\r\n",
        "from surprise import SVD\r\n",
        "from surprise import Dataset\r\n",
        "from surprise.model_selection import cross_validate\r\n",
        "from surprise.model_selection import KFold\r\n",
        "from surprise import KNNBasic\r\n",
        "from surprise import get_dataset_dir\r\n",
        "from surprise import dump"
      ],
      "execution_count": 2,
      "outputs": []
    },
    {
      "cell_type": "code",
      "metadata": {
        "id": "aCyu3JyDGIvm",
        "outputId": "e32735e7-107b-4dbe-bcd4-6a0090f580a1",
        "colab": {
          "base_uri": "https://localhost:8080/"
        }
      },
      "source": [
        "# Load the movielens-100k dataset (download it if needed),\n",
        "data = Dataset.load_builtin('ml-100k')"
      ],
      "execution_count": 3,
      "outputs": [
        {
          "output_type": "stream",
          "text": [
            "Dataset ml-100k could not be found. Do you want to download it? [Y/n] Y\n",
            "Trying to download dataset from http://files.grouplens.org/datasets/movielens/ml-100k.zip...\n",
            "Done! Dataset ml-100k has been saved to /root/.surprise_data/ml-100k\n"
          ],
          "name": "stdout"
        }
      ]
    },
    {
      "cell_type": "code",
      "metadata": {
        "id": "qb2j2Cv3iu3j",
        "outputId": "bfa000d2-1f3d-445e-a583-f728ecfdcc26",
        "colab": {
          "base_uri": "https://localhost:8080/"
        }
      },
      "source": [
        "!ls -l /root/.surprise_data/ml-100k/ml-100k"
      ],
      "execution_count": 4,
      "outputs": [
        {
          "output_type": "stream",
          "text": [
            "total 15776\n",
            "-rw-r--r-- 1 root root     716 Feb 18 00:29 allbut.pl\n",
            "-rw-r--r-- 1 root root     643 Feb 18 00:29 mku.sh\n",
            "-rw-r--r-- 1 root root    6750 Feb 18 00:29 README\n",
            "-rw-r--r-- 1 root root 1586544 Feb 18 00:29 u1.base\n",
            "-rw-r--r-- 1 root root  392629 Feb 18 00:29 u1.test\n",
            "-rw-r--r-- 1 root root 1583948 Feb 18 00:29 u2.base\n",
            "-rw-r--r-- 1 root root  395225 Feb 18 00:29 u2.test\n",
            "-rw-r--r-- 1 root root 1582546 Feb 18 00:29 u3.base\n",
            "-rw-r--r-- 1 root root  396627 Feb 18 00:29 u3.test\n",
            "-rw-r--r-- 1 root root 1581878 Feb 18 00:29 u4.base\n",
            "-rw-r--r-- 1 root root  397295 Feb 18 00:29 u4.test\n",
            "-rw-r--r-- 1 root root 1581776 Feb 18 00:29 u5.base\n",
            "-rw-r--r-- 1 root root  397397 Feb 18 00:29 u5.test\n",
            "-rw-r--r-- 1 root root 1792501 Feb 18 00:29 ua.base\n",
            "-rw-r--r-- 1 root root  186672 Feb 18 00:29 ua.test\n",
            "-rw-r--r-- 1 root root 1792476 Feb 18 00:29 ub.base\n",
            "-rw-r--r-- 1 root root  186697 Feb 18 00:29 ub.test\n",
            "-rw-r--r-- 1 root root 1979173 Feb 18 00:29 u.data\n",
            "-rw-r--r-- 1 root root     202 Feb 18 00:29 u.genre\n",
            "-rw-r--r-- 1 root root      36 Feb 18 00:29 u.info\n",
            "-rw-r--r-- 1 root root  236344 Feb 18 00:29 u.item\n",
            "-rw-r--r-- 1 root root     193 Feb 18 00:29 u.occupation\n",
            "-rw-r--r-- 1 root root   22628 Feb 18 00:29 u.user\n"
          ],
          "name": "stdout"
        }
      ]
    },
    {
      "cell_type": "markdown",
      "metadata": {
        "id": "8s5KlfFXREu5"
      },
      "source": [
        "## Looking at the data\r\n",
        "\r\n",
        "u.data     -- The full u data set, 100000 ratings by 943 users on 1682 items.\r\n",
        "\r\n",
        "- Each user has rated at least 20 movies.\r\n",
        "- Users and items are numbered consecutively from 1.\r\n",
        "- The data is randomly ordered.\r\n",
        "- This is a tab separated list of user id | item id | rating | timestamp. \r\n",
        "- The time stamps are unix seconds since 1/1/1970 UTC\r\n"
      ]
    },
    {
      "cell_type": "code",
      "metadata": {
        "colab": {
          "base_uri": "https://localhost:8080/",
          "height": 204
        },
        "id": "LYI6LPGYQraD",
        "outputId": "d0f98f19-83a1-422f-e2d9-d2c7d64e666e"
      },
      "source": [
        "data_df = pd.read_table('/root/.surprise_data/ml-100k/ml-100k/u.data', header=None)\r\n",
        "data_df.head()"
      ],
      "execution_count": 5,
      "outputs": [
        {
          "output_type": "execute_result",
          "data": {
            "text/html": [
              "<div>\n",
              "<style scoped>\n",
              "    .dataframe tbody tr th:only-of-type {\n",
              "        vertical-align: middle;\n",
              "    }\n",
              "\n",
              "    .dataframe tbody tr th {\n",
              "        vertical-align: top;\n",
              "    }\n",
              "\n",
              "    .dataframe thead th {\n",
              "        text-align: right;\n",
              "    }\n",
              "</style>\n",
              "<table border=\"1\" class=\"dataframe\">\n",
              "  <thead>\n",
              "    <tr style=\"text-align: right;\">\n",
              "      <th></th>\n",
              "      <th>0</th>\n",
              "      <th>1</th>\n",
              "      <th>2</th>\n",
              "      <th>3</th>\n",
              "    </tr>\n",
              "  </thead>\n",
              "  <tbody>\n",
              "    <tr>\n",
              "      <th>0</th>\n",
              "      <td>196</td>\n",
              "      <td>242</td>\n",
              "      <td>3</td>\n",
              "      <td>881250949</td>\n",
              "    </tr>\n",
              "    <tr>\n",
              "      <th>1</th>\n",
              "      <td>186</td>\n",
              "      <td>302</td>\n",
              "      <td>3</td>\n",
              "      <td>891717742</td>\n",
              "    </tr>\n",
              "    <tr>\n",
              "      <th>2</th>\n",
              "      <td>22</td>\n",
              "      <td>377</td>\n",
              "      <td>1</td>\n",
              "      <td>878887116</td>\n",
              "    </tr>\n",
              "    <tr>\n",
              "      <th>3</th>\n",
              "      <td>244</td>\n",
              "      <td>51</td>\n",
              "      <td>2</td>\n",
              "      <td>880606923</td>\n",
              "    </tr>\n",
              "    <tr>\n",
              "      <th>4</th>\n",
              "      <td>166</td>\n",
              "      <td>346</td>\n",
              "      <td>1</td>\n",
              "      <td>886397596</td>\n",
              "    </tr>\n",
              "  </tbody>\n",
              "</table>\n",
              "</div>"
            ],
            "text/plain": [
              "     0    1  2          3\n",
              "0  196  242  3  881250949\n",
              "1  186  302  3  891717742\n",
              "2   22  377  1  878887116\n",
              "3  244   51  2  880606923\n",
              "4  166  346  1  886397596"
            ]
          },
          "metadata": {
            "tags": []
          },
          "execution_count": 5
        }
      ]
    },
    {
      "cell_type": "markdown",
      "metadata": {
        "id": "r72iYn0VTdAk"
      },
      "source": [
        "u.item     -- Information about the items (movies); \r\n",
        "- this is a tab separated list of\r\n",
        "              movie id | movie title | release date | video release date |\r\n",
        "              IMDb URL | unknown | Action | Adventure | Animation |\r\n",
        "              Children's | Comedy | Crime | Documentary | Drama | Fantasy |\r\n",
        "              Film-Noir | Horror | Musical | Mystery | Romance | Sci-Fi |\r\n",
        "              Thriller | War | Western |\r\n",
        "- The last 19 fields are the genres, a 1 indicates the movie is of that genre, a 0 indicates it is not\r\n",
        "- movies can be in several genres at once.\r\n",
        "- The movie ids are the ones used in the u.data data set."
      ]
    },
    {
      "cell_type": "code",
      "metadata": {
        "colab": {
          "base_uri": "https://localhost:8080/",
          "height": 204
        },
        "id": "9yeH7OhTRikS",
        "outputId": "7a8977e4-acd3-45e7-ac2a-8881383db3f0"
      },
      "source": [
        "item_df = pd.read_csv('/root/.surprise_data/ml-100k/ml-100k/u.item', sep=\"|\", encoding='iso-8859-1', header=None)\r\n",
        "item_df.head()"
      ],
      "execution_count": 9,
      "outputs": [
        {
          "output_type": "execute_result",
          "data": {
            "text/html": [
              "<div>\n",
              "<style scoped>\n",
              "    .dataframe tbody tr th:only-of-type {\n",
              "        vertical-align: middle;\n",
              "    }\n",
              "\n",
              "    .dataframe tbody tr th {\n",
              "        vertical-align: top;\n",
              "    }\n",
              "\n",
              "    .dataframe thead th {\n",
              "        text-align: right;\n",
              "    }\n",
              "</style>\n",
              "<table border=\"1\" class=\"dataframe\">\n",
              "  <thead>\n",
              "    <tr style=\"text-align: right;\">\n",
              "      <th></th>\n",
              "      <th>0</th>\n",
              "      <th>1</th>\n",
              "      <th>2</th>\n",
              "      <th>3</th>\n",
              "      <th>4</th>\n",
              "      <th>5</th>\n",
              "      <th>6</th>\n",
              "      <th>7</th>\n",
              "      <th>8</th>\n",
              "      <th>9</th>\n",
              "      <th>10</th>\n",
              "      <th>11</th>\n",
              "      <th>12</th>\n",
              "      <th>13</th>\n",
              "      <th>14</th>\n",
              "      <th>15</th>\n",
              "      <th>16</th>\n",
              "      <th>17</th>\n",
              "      <th>18</th>\n",
              "      <th>19</th>\n",
              "      <th>20</th>\n",
              "      <th>21</th>\n",
              "      <th>22</th>\n",
              "      <th>23</th>\n",
              "    </tr>\n",
              "  </thead>\n",
              "  <tbody>\n",
              "    <tr>\n",
              "      <th>0</th>\n",
              "      <td>1</td>\n",
              "      <td>Toy Story (1995)</td>\n",
              "      <td>01-Jan-1995</td>\n",
              "      <td>NaN</td>\n",
              "      <td>http://us.imdb.com/M/title-exact?Toy%20Story%2...</td>\n",
              "      <td>0</td>\n",
              "      <td>0</td>\n",
              "      <td>0</td>\n",
              "      <td>1</td>\n",
              "      <td>1</td>\n",
              "      <td>1</td>\n",
              "      <td>0</td>\n",
              "      <td>0</td>\n",
              "      <td>0</td>\n",
              "      <td>0</td>\n",
              "      <td>0</td>\n",
              "      <td>0</td>\n",
              "      <td>0</td>\n",
              "      <td>0</td>\n",
              "      <td>0</td>\n",
              "      <td>0</td>\n",
              "      <td>0</td>\n",
              "      <td>0</td>\n",
              "      <td>0</td>\n",
              "    </tr>\n",
              "    <tr>\n",
              "      <th>1</th>\n",
              "      <td>2</td>\n",
              "      <td>GoldenEye (1995)</td>\n",
              "      <td>01-Jan-1995</td>\n",
              "      <td>NaN</td>\n",
              "      <td>http://us.imdb.com/M/title-exact?GoldenEye%20(...</td>\n",
              "      <td>0</td>\n",
              "      <td>1</td>\n",
              "      <td>1</td>\n",
              "      <td>0</td>\n",
              "      <td>0</td>\n",
              "      <td>0</td>\n",
              "      <td>0</td>\n",
              "      <td>0</td>\n",
              "      <td>0</td>\n",
              "      <td>0</td>\n",
              "      <td>0</td>\n",
              "      <td>0</td>\n",
              "      <td>0</td>\n",
              "      <td>0</td>\n",
              "      <td>0</td>\n",
              "      <td>0</td>\n",
              "      <td>1</td>\n",
              "      <td>0</td>\n",
              "      <td>0</td>\n",
              "    </tr>\n",
              "    <tr>\n",
              "      <th>2</th>\n",
              "      <td>3</td>\n",
              "      <td>Four Rooms (1995)</td>\n",
              "      <td>01-Jan-1995</td>\n",
              "      <td>NaN</td>\n",
              "      <td>http://us.imdb.com/M/title-exact?Four%20Rooms%...</td>\n",
              "      <td>0</td>\n",
              "      <td>0</td>\n",
              "      <td>0</td>\n",
              "      <td>0</td>\n",
              "      <td>0</td>\n",
              "      <td>0</td>\n",
              "      <td>0</td>\n",
              "      <td>0</td>\n",
              "      <td>0</td>\n",
              "      <td>0</td>\n",
              "      <td>0</td>\n",
              "      <td>0</td>\n",
              "      <td>0</td>\n",
              "      <td>0</td>\n",
              "      <td>0</td>\n",
              "      <td>0</td>\n",
              "      <td>1</td>\n",
              "      <td>0</td>\n",
              "      <td>0</td>\n",
              "    </tr>\n",
              "    <tr>\n",
              "      <th>3</th>\n",
              "      <td>4</td>\n",
              "      <td>Get Shorty (1995)</td>\n",
              "      <td>01-Jan-1995</td>\n",
              "      <td>NaN</td>\n",
              "      <td>http://us.imdb.com/M/title-exact?Get%20Shorty%...</td>\n",
              "      <td>0</td>\n",
              "      <td>1</td>\n",
              "      <td>0</td>\n",
              "      <td>0</td>\n",
              "      <td>0</td>\n",
              "      <td>1</td>\n",
              "      <td>0</td>\n",
              "      <td>0</td>\n",
              "      <td>1</td>\n",
              "      <td>0</td>\n",
              "      <td>0</td>\n",
              "      <td>0</td>\n",
              "      <td>0</td>\n",
              "      <td>0</td>\n",
              "      <td>0</td>\n",
              "      <td>0</td>\n",
              "      <td>0</td>\n",
              "      <td>0</td>\n",
              "      <td>0</td>\n",
              "    </tr>\n",
              "    <tr>\n",
              "      <th>4</th>\n",
              "      <td>5</td>\n",
              "      <td>Copycat (1995)</td>\n",
              "      <td>01-Jan-1995</td>\n",
              "      <td>NaN</td>\n",
              "      <td>http://us.imdb.com/M/title-exact?Copycat%20(1995)</td>\n",
              "      <td>0</td>\n",
              "      <td>0</td>\n",
              "      <td>0</td>\n",
              "      <td>0</td>\n",
              "      <td>0</td>\n",
              "      <td>0</td>\n",
              "      <td>1</td>\n",
              "      <td>0</td>\n",
              "      <td>1</td>\n",
              "      <td>0</td>\n",
              "      <td>0</td>\n",
              "      <td>0</td>\n",
              "      <td>0</td>\n",
              "      <td>0</td>\n",
              "      <td>0</td>\n",
              "      <td>0</td>\n",
              "      <td>1</td>\n",
              "      <td>0</td>\n",
              "      <td>0</td>\n",
              "    </tr>\n",
              "  </tbody>\n",
              "</table>\n",
              "</div>"
            ],
            "text/plain": [
              "   0                  1            2   3   ... 20  21  22  23\n",
              "0   1   Toy Story (1995)  01-Jan-1995 NaN  ...  0   0   0   0\n",
              "1   2   GoldenEye (1995)  01-Jan-1995 NaN  ...  0   1   0   0\n",
              "2   3  Four Rooms (1995)  01-Jan-1995 NaN  ...  0   1   0   0\n",
              "3   4  Get Shorty (1995)  01-Jan-1995 NaN  ...  0   0   0   0\n",
              "4   5     Copycat (1995)  01-Jan-1995 NaN  ...  0   1   0   0\n",
              "\n",
              "[5 rows x 24 columns]"
            ]
          },
          "metadata": {
            "tags": []
          },
          "execution_count": 9
        }
      ]
    },
    {
      "cell_type": "markdown",
      "metadata": {
        "id": "aEr2_fVnT3ll"
      },
      "source": [
        "u.user     -- Demographic information about the users\r\n",
        "- this is a tab separated list of\r\n",
        "              user id | age | gender | occupation | zip code\r\n",
        "- The user ids are the ones used in the u.data data set."
      ]
    },
    {
      "cell_type": "code",
      "metadata": {
        "colab": {
          "base_uri": "https://localhost:8080/",
          "height": 204
        },
        "id": "qSvS0w07Szve",
        "outputId": "01e8b46b-4f0f-42ee-992d-2015375232eb"
      },
      "source": [
        "user_df = pd.read_csv('/root/.surprise_data/ml-100k/ml-100k/u.user', sep=\"|\", encoding='iso-8859-1', header=None)\r\n",
        "user_df.head()"
      ],
      "execution_count": 7,
      "outputs": [
        {
          "output_type": "execute_result",
          "data": {
            "text/html": [
              "<div>\n",
              "<style scoped>\n",
              "    .dataframe tbody tr th:only-of-type {\n",
              "        vertical-align: middle;\n",
              "    }\n",
              "\n",
              "    .dataframe tbody tr th {\n",
              "        vertical-align: top;\n",
              "    }\n",
              "\n",
              "    .dataframe thead th {\n",
              "        text-align: right;\n",
              "    }\n",
              "</style>\n",
              "<table border=\"1\" class=\"dataframe\">\n",
              "  <thead>\n",
              "    <tr style=\"text-align: right;\">\n",
              "      <th></th>\n",
              "      <th>0</th>\n",
              "      <th>1</th>\n",
              "      <th>2</th>\n",
              "      <th>3</th>\n",
              "      <th>4</th>\n",
              "    </tr>\n",
              "  </thead>\n",
              "  <tbody>\n",
              "    <tr>\n",
              "      <th>0</th>\n",
              "      <td>1</td>\n",
              "      <td>24</td>\n",
              "      <td>M</td>\n",
              "      <td>technician</td>\n",
              "      <td>85711</td>\n",
              "    </tr>\n",
              "    <tr>\n",
              "      <th>1</th>\n",
              "      <td>2</td>\n",
              "      <td>53</td>\n",
              "      <td>F</td>\n",
              "      <td>other</td>\n",
              "      <td>94043</td>\n",
              "    </tr>\n",
              "    <tr>\n",
              "      <th>2</th>\n",
              "      <td>3</td>\n",
              "      <td>23</td>\n",
              "      <td>M</td>\n",
              "      <td>writer</td>\n",
              "      <td>32067</td>\n",
              "    </tr>\n",
              "    <tr>\n",
              "      <th>3</th>\n",
              "      <td>4</td>\n",
              "      <td>24</td>\n",
              "      <td>M</td>\n",
              "      <td>technician</td>\n",
              "      <td>43537</td>\n",
              "    </tr>\n",
              "    <tr>\n",
              "      <th>4</th>\n",
              "      <td>5</td>\n",
              "      <td>33</td>\n",
              "      <td>F</td>\n",
              "      <td>other</td>\n",
              "      <td>15213</td>\n",
              "    </tr>\n",
              "  </tbody>\n",
              "</table>\n",
              "</div>"
            ],
            "text/plain": [
              "   0   1  2           3      4\n",
              "0  1  24  M  technician  85711\n",
              "1  2  53  F       other  94043\n",
              "2  3  23  M      writer  32067\n",
              "3  4  24  M  technician  43537\n",
              "4  5  33  F       other  15213"
            ]
          },
          "metadata": {
            "tags": []
          },
          "execution_count": 7
        }
      ]
    },
    {
      "cell_type": "code",
      "metadata": {
        "id": "2_oeAKdnLDSo"
      },
      "source": [
        "def read_item_names():\r\n",
        "    \"\"\"Read the u.item file from MovieLens 100-k dataset and return two\r\n",
        "    mappings to convert raw ids into movie names and movie names into raw ids.\r\n",
        "    \"\"\"\r\n",
        "\r\n",
        "    file_name = get_dataset_dir() + '/ml-100k/ml-100k/u.item'\r\n",
        "    rid_to_name = {}\r\n",
        "    name_to_rid = {}\r\n",
        "    with io.open(file_name, 'r', encoding='ISO-8859-1') as f:\r\n",
        "        for line in f:\r\n",
        "            line = line.split('|')\r\n",
        "            rid_to_name[line[0]] = line[1]\r\n",
        "            name_to_rid[line[1]] = line[0]\r\n",
        "\r\n",
        "    return rid_to_name, name_to_rid\r\n",
        "\r\n",
        "# Read the mappings raw id <-> movie name\r\n",
        "rid_to_name, name_to_rid = read_item_names()\r\n"
      ],
      "execution_count": 10,
      "outputs": []
    },
    {
      "cell_type": "markdown",
      "metadata": {
        "id": "Ca5LFHpYXuTo"
      },
      "source": [
        "## Types of Recommendation Systems (From Wikipedia)\r\n",
        "\r\n",
        "Other references used:\r\n",
        "\r\n",
        "[Memory Based Recommendation System](https://towardsdatascience.com/how-to-build-a-memory-based-recommendation-system-using-python-surprise-55f3257b2cf4)\r\n",
        "\r\n",
        "[Model Based Recommendation System](https://towardsdatascience.com/how-to-build-a-model-based-recommendation-system-using-python-surprise-2df3b77ab3e5)\r\n",
        "\r\n",
        "### Collaborative Filtering\r\n",
        "\r\n",
        "> Collaborative filtering is based on the assumption that people who agreed in the past will agree in the future, and that they will like similar kinds of items as they liked in the past. The system generates recommendations using only information about rating profiles for different users or items. By locating peer users/items with a rating history similar to the current user or item, they generate recommendations using this neighborhood. Collaborative filtering methods are classified as memory-based and model-based.\r\n",
        "\r\n",
        "> #### Memory Based\r\n",
        "\r\n",
        "> They are called memory-based because the algorithm is not complicated, but requires a lot of memory to keep track of the results. For the surprise package, there are three models avaialble: KNNBasic, KNNWithMeans, KNNWithZScore, and KNNBaseline.\r\n",
        "\r\n",
        "> #### Model Based\r\n",
        "\r\n",
        "> Model Based approaches build some type of machine learning model. For the surprise package, there are three models avaialble: SVD, SVDpp, and NMF.\r\n",
        "\r\n",
        "> #### Problems with Collaborative Filtering\r\n",
        "\r\n",
        "> - Cold start: For a new user or item, there isn't enough data to make accurate recommendations.\r\n",
        "- Scalability: In many of the environments in which these systems make recommendations, there are millions of users and products. Thus, a large amount of computation power is often necessary to calculate recommendations.\r\n",
        "- Sparsity: The number of items sold on major e-commerce sites is extremely large. The most active users will only have rated a small subset of the overall database. Thus, even the most popular items have very few ratings.\r\n",
        "\r\n",
        "### Content Based Filtering\r\n",
        "\r\n",
        "> Content-based filtering methods are based on a description of the item and a profile of the user's preferences. These methods are best suited to situations where there is known data on an item (name, location, description, etc.), but not on the user. Content-based recommenders treat recommendation as a user-specific classification problem and learn a classifier for the user's likes and dislikes based on an item's features."
      ]
    },
    {
      "cell_type": "markdown",
      "metadata": {
        "id": "pGAzk7SRMXy2"
      },
      "source": [
        "## Assessing Model Performance\r\n",
        "\r\n",
        "### Accuracy measures\r\n",
        "\r\n",
        "- rmse\tCompute RMSE (Root Mean Squared Error).\r\n",
        "- mse\tCompute MSE (Mean Squared Error).\r\n",
        "- mae\tCompute MAE (Mean Absolute Error).\r\n",
        "- fcp\tCompute FCP (Fraction of Concordant Pairs).\r\n",
        "\r\n",
        "### Precision and Recall\r\n",
        "\r\n",
        "\r\n",
        "![precision](https://wikimedia.org/api/rest_v1/media/math/render/svg/5b7d5cd5010efe2ef51e7731f2124a2156830fbe)\r\n",
        "\r\n",
        "![recall](https://wikimedia.org/api/rest_v1/media/math/render/svg/43a4548e95fde15433d8e3cd3c80ced433f54abe)\r\n",
        "\r\n",
        "An item is considered relevant if its true rating rui is greater than a given threshold. An item is considered recommended if its estimated rating r^ui is greater than the threshold, and if it is among the k highest estimated ratings.\r\n",
        "\r\n",
        "Note that in the edge cases where division by zero occurs, Precision@k and Recall@k values are undefined. As a convention, we set their values to 0 in such cases.\r\n",
        "\r\n",
        "One can also interpret precision and recall not as ratios but as estimations of probabilities:\r\n",
        "\r\n",
        "- Precision is the estimated probability that a document randomly selected from the pool of retrieved documents is relevant.\r\n",
        "\r\n",
        "- Recall is the estimated probability that a document randomly selected from the pool of relevant documents is retrieved.\r\n",
        "\r\n",
        "Another interpretation is that precision is the average probability of relevant retrieval and recall is the average probability of complete retrieval averaged over multiple retrieval queries.\r\n",
        "\r\n",
        "### F-Score\r\n",
        "\r\n",
        "The F-score is a measure of a test's accuracy. It is calculated from the precision and recall of the test, where the precision is the number of correctly identified positive results divided by the number of all positive results, including those not identified correctly, and the recall is the number of correctly identified positive results divided by the number of all samples that should have been identified as positive.\r\n",
        "\r\n",
        "![f-score](https://wikimedia.org/api/rest_v1/media/math/render/svg/9c94f59b68f5ae0dc92185906c7ec4214fd04e1e)\r\n",
        "\r\n",
        "The highest possible value of an F-score is 1.0, indicating perfect precision and recall, and the lowest possible value is 0, if either the precision or the recall is zero"
      ]
    },
    {
      "cell_type": "code",
      "metadata": {
        "id": "sRIG4-awyQiY"
      },
      "source": [
        "def get_f_score(precision, recall):\r\n",
        "  denominator = precision + recall\r\n",
        "  if(denominator == 0):\r\n",
        "    return 0\r\n",
        "  return 2 * (precision * recall) / denominator"
      ],
      "execution_count": 11,
      "outputs": []
    },
    {
      "cell_type": "markdown",
      "metadata": {
        "id": "y9Sw4f1wXZ_u"
      },
      "source": [
        "## Memory Based\r\n",
        "\r\n",
        "For now, we will start with a memory based approach using one of the algorithms provided by the suprise library.\r\n",
        "\r\n",
        "We will start with the KNNBasic algorithm. It takes a sim_option as a parameter:\r\n",
        "\r\n",
        "This argument is a dictionary with the following (all optional) keys:\r\n",
        "\r\n",
        "- 'name': The name of the similarity to use, as defined in the similarities module. Default is 'MSD'.\r\n",
        "- 'user_based': Whether similarities will be computed between users or between items. This has a huge impact on the performance of a prediction algorithm. Default is True.\r\n",
        "- 'min_support': The minimum number of common items (when 'user_based' is 'True') or minimum number of common users (when 'user_based' is 'False') for the similarity not to be zero.\r\n",
        "- 'shrinkage': Shrinkage parameter to apply (only relevant for pearson_baseline similarity). Default is 100.\r\n",
        "\r\n",
        "\r\n",
        "KNNBasic parameters:\r\n",
        "\r\n",
        "- k (int) – The (max) number of neighbors to take into account for aggregation (see this note). Default is 40.\r\n",
        "- min_k (int) – The minimum number of neighbors to take into account for aggregation. If there are not enough neighbors, the neighbor aggregation is set to zero (so the prediction ends up being equivalent to the mean μu or μi). Default is 1.\r\n",
        "- sim_options (dict) – A dictionary of options for the similarity measure. See Similarity measure configuration for accepted options.\r\n",
        "- verbose (bool) – Whether to print trace messages of bias estimation, similarity, etc. Default is True."
      ]
    },
    {
      "cell_type": "code",
      "metadata": {
        "id": "lJQScQQqPKvd"
      },
      "source": [
        "my_k = 15\r\n",
        "my_min_k = 5\r\n",
        "my_sim_option = {\r\n",
        "    'name':'cosine', 'user_based':False, \r\n",
        "    }\r\n",
        "\r\n",
        "algo = KNNBasic(\r\n",
        "    k = my_k, min_k = my_min_k, sim_option = my_sim_option, verbose = False\r\n",
        "    )"
      ],
      "execution_count": 13,
      "outputs": []
    },
    {
      "cell_type": "code",
      "metadata": {
        "colab": {
          "base_uri": "https://localhost:8080/"
        },
        "id": "2kh1uMHqGIvn",
        "outputId": "1a1c0733-6a9a-472b-b7a0-2645e9aa394f"
      },
      "source": [
        "\r\n",
        "# Run 5-fold cross-validation and print results\r\n",
        "results = cross_validate(algo, data, measures=['RMSE', 'MSE', 'MAE', 'FCP'], cv=5, verbose=True)\r\n",
        "\r\n",
        "# You can get several of the items specifically from the returned results. Very\r\n",
        "# useful if you need to wrap this in a grid search"
      ],
      "execution_count": 14,
      "outputs": [
        {
          "output_type": "stream",
          "text": [
            "Evaluating RMSE, MSE, MAE, FCP of algorithm KNNBasic on 5 split(s).\n",
            "\n",
            "                  Fold 1  Fold 2  Fold 3  Fold 4  Fold 5  Mean    Std     \n",
            "RMSE (testset)    0.9814  0.9790  0.9856  0.9736  0.9792  0.9798  0.0039  \n",
            "MSE (testset)     0.9631  0.9585  0.9715  0.9479  0.9588  0.9599  0.0076  \n",
            "MAE (testset)     0.7768  0.7717  0.7739  0.7683  0.7723  0.7726  0.0028  \n",
            "FCP (testset)     0.7001  0.6968  0.7017  0.7024  0.6925  0.6987  0.0036  \n",
            "Fit time          0.30    0.34    0.33    0.33    0.30    0.32    0.02    \n",
            "Test time         2.74    2.67    2.67    2.70    2.62    2.68    0.04    \n"
          ],
          "name": "stdout"
        }
      ]
    },
    {
      "cell_type": "code",
      "metadata": {
        "colab": {
          "base_uri": "https://localhost:8080/"
        },
        "id": "yLs3318TN88v",
        "outputId": "9b9886db-9c3c-48ae-dbb8-ed916dfc1d36"
      },
      "source": [
        "algo.predict(uid = '244', iid = '2')"
      ],
      "execution_count": 15,
      "outputs": [
        {
          "output_type": "execute_result",
          "data": {
            "text/plain": [
              "Prediction(uid='244', iid='2', r_ui=None, est=3.34851947509825, details={'actual_k': 15, 'was_impossible': False})"
            ]
          },
          "metadata": {
            "tags": []
          },
          "execution_count": 15
        }
      ]
    },
    {
      "cell_type": "code",
      "metadata": {
        "id": "xfWBEoxDabER"
      },
      "source": [
        "def get_top_n(predictions, n=10):\r\n",
        "    \"\"\"Return the top-N recommendation for each user from a set of predictions.\r\n",
        "\r\n",
        "    Args:\r\n",
        "        predictions(list of Prediction objects): The list of predictions, as\r\n",
        "            returned by the test method of an algorithm.\r\n",
        "        n(int): The number of recommendation to output for each user. Default\r\n",
        "            is 10.\r\n",
        "\r\n",
        "    Returns:\r\n",
        "    A dict where keys are user (raw) ids and values are lists of tuples:\r\n",
        "        [(raw item id, rating estimation), ...] of size n.\r\n",
        "    \"\"\"\r\n",
        "\r\n",
        "    # First map the predictions to each user.\r\n",
        "    top_n = defaultdict(list)\r\n",
        "    for uid, iid, true_r, est, _ in predictions:\r\n",
        "        top_n[uid].append((iid, est))\r\n",
        "\r\n",
        "    # Then sort the predictions for each user and retrieve the k highest ones.\r\n",
        "    for uid, user_ratings in top_n.items():\r\n",
        "        user_ratings.sort(key=lambda x: x[1], reverse=True)\r\n",
        "        top_n[uid] = user_ratings[:n]\r\n",
        "\r\n",
        "    return top_n\r\n",
        "\r\n",
        "trainset = data.build_full_trainset()\r\n",
        "\r\n",
        "algo.fit(trainset)\r\n",
        "\r\n",
        "# Then predict ratings for all pairs (u, i) that are NOT in the training set.\r\n",
        "testset = trainset.build_anti_testset()\r\n",
        "predictions = algo.test(testset)"
      ],
      "execution_count": 16,
      "outputs": []
    },
    {
      "cell_type": "code",
      "metadata": {
        "colab": {
          "base_uri": "https://localhost:8080/"
        },
        "id": "jDFXkAXXjTC6",
        "outputId": "ae216b37-5677-4915-e911-7f66575ea3d8"
      },
      "source": [
        "print(predictions[0])"
      ],
      "execution_count": 17,
      "outputs": [
        {
          "output_type": "stream",
          "text": [
            "user: 196        item: 302        r_ui = 3.53   est = 4.16   {'actual_k': 15, 'was_impossible': False}\n"
          ],
          "name": "stdout"
        }
      ]
    },
    {
      "cell_type": "code",
      "metadata": {
        "colab": {
          "base_uri": "https://localhost:8080/"
        },
        "id": "olttOd1Ejx9t",
        "outputId": "c5a2b959-41e4-4abe-92d9-f2fdd0ccab20"
      },
      "source": [
        "top_n = get_top_n(predictions, n=10)\r\n",
        "\r\n",
        "# Print the recommended items for a user\r\n",
        "for iid, user_rating in top_n['725']:\r\n",
        "  print(rid_to_name[iid], user_rating)"
      ],
      "execution_count": 20,
      "outputs": [
        {
          "output_type": "stream",
          "text": [
            "Casablanca (1942) 4.871585813289848\n",
            "Shawshank Redemption, The (1994) 4.79671457905544\n",
            "Usual Suspects, The (1995) 4.777804496813754\n",
            "12 Angry Men (1957) 4.741342851826165\n",
            "Apt Pupil (1998) 4.730479250302369\n",
            "Cinema Paradiso (1988) 4.6823830544941965\n",
            "Rear Window (1954) 4.669898819561551\n",
            "Some Folks Call It a Sling Blade (1993) 4.666943334483525\n",
            "Taxi Driver (1976) 4.658515063658138\n",
            "Pather Panchali (1955) 4.653356886048138\n"
          ],
          "name": "stdout"
        }
      ]
    },
    {
      "cell_type": "code",
      "metadata": {
        "id": "19H2pIFxkIL-"
      },
      "source": [
        "def precision_recall_at_k(predictions, k=10, threshold=3.5):\r\n",
        "    \"\"\"Return precision and recall at k metrics for each user\"\"\"\r\n",
        "\r\n",
        "    # First map the predictions to each user.\r\n",
        "    user_est_true = defaultdict(list)\r\n",
        "    for uid, _, true_r, est, _ in predictions:\r\n",
        "        user_est_true[uid].append((est, true_r))\r\n",
        "\r\n",
        "    precisions = dict()\r\n",
        "    recalls = dict()\r\n",
        "    for uid, user_ratings in user_est_true.items():\r\n",
        "\r\n",
        "        # Sort user ratings by estimated value\r\n",
        "        user_ratings.sort(key=lambda x: x[0], reverse=True)\r\n",
        "\r\n",
        "        # Number of relevant items\r\n",
        "        n_rel = sum((true_r >= threshold) for (_, true_r) in user_ratings)\r\n",
        "\r\n",
        "        # Number of recommended items in top k\r\n",
        "        n_rec_k = sum((est >= threshold) for (est, _) in user_ratings[:k])\r\n",
        "\r\n",
        "        # Number of relevant and recommended items in top k\r\n",
        "        n_rel_and_rec_k = sum(((true_r >= threshold) and (est >= threshold))\r\n",
        "                              for (est, true_r) in user_ratings[:k])\r\n",
        "\r\n",
        "        # Precision@K: Proportion of recommended items that are relevant\r\n",
        "        # When n_rec_k is 0, Precision is undefined. We here set it to 0.\r\n",
        "\r\n",
        "        precisions[uid] = n_rel_and_rec_k / n_rec_k if n_rec_k != 0 else 0\r\n",
        "\r\n",
        "        # Recall@K: Proportion of relevant items that are recommended\r\n",
        "        # When n_rel is 0, Recall is undefined. We here set it to 0.\r\n",
        "\r\n",
        "        recalls[uid] = n_rel_and_rec_k / n_rel if n_rel != 0 else 0\r\n",
        "\r\n",
        "    return precisions, recalls"
      ],
      "execution_count": 23,
      "outputs": []
    },
    {
      "cell_type": "code",
      "metadata": {
        "colab": {
          "base_uri": "https://localhost:8080/"
        },
        "id": "GIebvQBIp6z_",
        "outputId": "f7e96d73-b90f-492b-fc88-1c03dacfd366"
      },
      "source": [
        "kf = KFold(n_splits=5)\r\n",
        "\r\n",
        "algo = KNNBasic(\r\n",
        "    k = my_k, min_k = my_min_k, sim_option = my_sim_option, verbose = False\r\n",
        "    )\r\n",
        "\r\n",
        "for trainset, testset in kf.split(data):\r\n",
        "    algo.fit(trainset)\r\n",
        "    predictions = algo.test(testset)\r\n",
        "    precisions, recalls = precision_recall_at_k(predictions, k=5, threshold=4)\r\n",
        "\r\n",
        "    # Precision and recall can then be averaged over all users\r\n",
        "    precision = sum(prec for prec in precisions.values()) / len(precisions)\r\n",
        "    recall = sum(rec for rec in recalls.values()) / len(recalls)\r\n",
        "    fscore = get_f_score(precision, recall)\r\n",
        "    print('Precision:', precision, 'Recall:', recall, 'F1 Score', fscore)"
      ],
      "execution_count": 24,
      "outputs": [
        {
          "output_type": "stream",
          "text": [
            "Precision: 0.6924451521585282 Recall: 0.26328724593707326 F1 Score 0.3815126021417136\n",
            "Precision: 0.6824133050247712 Recall: 0.27644900973501574 F1 Score 0.39349232835656545\n",
            "Precision: 0.6841472045293706 Recall: 0.2701290458098918 F1 Score 0.387326063050026\n",
            "Precision: 0.6879511677282386 Recall: 0.26290403933176454 F1 Score 0.38042625105453054\n",
            "Precision: 0.6732237539766713 Recall: 0.25697145617513645 F1 Score 0.37196340403181294\n"
          ],
          "name": "stdout"
        }
      ]
    },
    {
      "cell_type": "code",
      "metadata": {
        "colab": {
          "base_uri": "https://localhost:8080/"
        },
        "id": "Z3c89MwSqXot",
        "outputId": "16ec69d9-4602-47d4-b06e-7e7db46e20cf"
      },
      "source": [
        "\r\n",
        "# First, train the algortihm to compute the similarities between items\r\n",
        "trainset = data.build_full_trainset()\r\n",
        "sim_options = {'name': 'pearson_baseline', 'user_based': False}\r\n",
        "algo = KNNBasic(sim_options=sim_options)\r\n",
        "algo.fit(trainset)\r\n",
        "\r\n",
        "\r\n",
        "# Retrieve inner id of the movie Toy Story\r\n",
        "toy_story_raw_id = name_to_rid['Toy Story (1995)']\r\n",
        "toy_story_inner_id = algo.trainset.to_inner_iid(toy_story_raw_id)\r\n",
        "\r\n",
        "# Retrieve inner ids of the nearest neighbors of Toy Story.\r\n",
        "toy_story_neighbors = algo.get_neighbors(toy_story_inner_id, k=10)\r\n",
        "\r\n",
        "# Convert inner ids of the neighbors into names.\r\n",
        "toy_story_neighbors = (algo.trainset.to_raw_iid(inner_id)\r\n",
        "                       for inner_id in toy_story_neighbors)\r\n",
        "toy_story_neighbors = (rid_to_name[rid]\r\n",
        "                       for rid in toy_story_neighbors)\r\n",
        "\r\n",
        "print()\r\n",
        "print('The 10 nearest neighbors of Toy Story are:')\r\n",
        "for movie in toy_story_neighbors:\r\n",
        "    print(movie)"
      ],
      "execution_count": 25,
      "outputs": [
        {
          "output_type": "stream",
          "text": [
            "Estimating biases using als...\n",
            "Computing the pearson_baseline similarity matrix...\n",
            "Done computing similarity matrix.\n",
            "\n",
            "The 10 nearest neighbors of Toy Story are:\n",
            "Beauty and the Beast (1991)\n",
            "Raiders of the Lost Ark (1981)\n",
            "That Thing You Do! (1996)\n",
            "Lion King, The (1994)\n",
            "Craft, The (1996)\n",
            "Liar Liar (1997)\n",
            "Aladdin (1992)\n",
            "Cool Hand Luke (1967)\n",
            "Winnie the Pooh and the Blustery Day (1968)\n",
            "Indiana Jones and the Last Crusade (1989)\n"
          ],
          "name": "stdout"
        }
      ]
    },
    {
      "cell_type": "code",
      "metadata": {
        "colab": {
          "base_uri": "https://localhost:8080/"
        },
        "id": "6vJz75GYq_Jb",
        "outputId": "026c4a19-4e3a-4fbf-a3e4-ad37f6ae9c89"
      },
      "source": [
        "# Compute predictions of the 'original' algorithm.\r\n",
        "predictions = algo.test(trainset.build_testset())\r\n",
        "\r\n",
        "# Dump algorithm and reload it.\r\n",
        "file_name = '/content/knn_basic_dump'\r\n",
        "dump.dump(file_name, algo=algo)\r\n",
        "_, loaded_algo = dump.load(file_name)\r\n",
        "\r\n",
        "# We now ensure that the algo is still the same by checking the predictions.\r\n",
        "predictions_loaded_algo = loaded_algo.test(trainset.build_testset())\r\n",
        "assert predictions == predictions_loaded_algo\r\n",
        "print('Predictions are the same')\r\n"
      ],
      "execution_count": 26,
      "outputs": [
        {
          "output_type": "stream",
          "text": [
            "Predictions are the same\n"
          ],
          "name": "stdout"
        }
      ]
    },
    {
      "cell_type": "markdown",
      "metadata": {
        "id": "z-ta18kaFxrI"
      },
      "source": [
        "## Model Based\r\n",
        "\r\n",
        "Now we can do the same thing using a model based algorithm, like SVD\r\n",
        "\r\n",
        "Parameters:\r\n",
        "\r\n",
        "- n_factors – The number of factors. Default is 100.\r\n",
        "- n_epochs – The number of iteration of the SGD procedure. Default is 20.\r\n",
        "- biased (bool) – Whether to use baselines (or biases). See note above. Default is True.\r\n",
        "- init_mean – The mean of the normal distribution for factor vectors initialization. Default is 0.\r\n",
        "- init_std_dev – The standard deviation of the normal distribution for factor vectors initialization. Default is 0.1.\r\n",
        "- lr_all – The learning rate for all parameters. Default is 0.005.\r\n",
        "- reg_all – The regularization term for all parameters. Default is 0.02.\r\n",
        "- lr_bu – The learning rate for bu. Takes precedence over lr_all if set. Default is None.\r\n",
        "- lr_bi – The learning rate for bi. Takes precedence over lr_all if set. Default is None.\r\n",
        "- lr_pu – The learning rate for pu. Takes precedence over lr_all if set. Default is None.\r\n",
        "- lr_qi – The learning rate for qi. Takes precedence over lr_all if set. Default is None.\r\n",
        "- reg_bu – The regularization term for bu. Takes precedence over reg_all if set. Default is None.\r\n",
        "- reg_bi – The regularization term for bi. Takes precedence over reg_all if set. Default is None.\r\n",
        "- reg_pu – The regularization term for pu. Takes precedence over reg_all if set. Default is None.\r\n",
        "- reg_qi – The regularization term for qi. Takes precedence over reg_all if set. Default is None.\r\n",
        "- random_state (int, RandomState instance from numpy, or None) – Determines the RNG that will be used for initialization. If int, random_state will be used as a seed for a new RNG. This is useful to get the same initialization over multiple calls to fit(). If RandomState instance, this same instance is used as RNG. If None, the current RNG from numpy is used. Default is None.\r\n",
        "- verbose – If True, prints the current epoch. Default is False."
      ]
    },
    {
      "cell_type": "code",
      "metadata": {
        "id": "m4P2KDoGF26T",
        "colab": {
          "base_uri": "https://localhost:8080/"
        },
        "outputId": "54510500-d9d1-44c0-b2c6-1288d82a2514"
      },
      "source": [
        "kf = KFold(n_splits=5)\r\n",
        "\r\n",
        "algo = SVD()\r\n",
        "\r\n",
        "for trainset, testset in kf.split(data):\r\n",
        "    algo.fit(trainset)\r\n",
        "    predictions = algo.test(testset)\r\n",
        "    precisions, recalls = precision_recall_at_k(predictions, k=5, threshold=4)\r\n",
        "\r\n",
        "    # Precision and recall can then be averaged over all users\r\n",
        "    precision = sum(prec for prec in precisions.values()) / len(precisions)\r\n",
        "    recall = sum(rec for rec in recalls.values()) / len(recalls)\r\n",
        "    fscore = get_f_score(precision, recall)\r\n",
        "    print('Precision:', precision, 'Recall:', recall, 'F1 Score', fscore)"
      ],
      "execution_count": null,
      "outputs": [
        {
          "output_type": "stream",
          "text": [
            "Precision: 0.6336694975230015 Recall: 0.23936438875200075 F1 Score 0.34747313782412054\n",
            "Precision: 0.6437654976974853 Recall: 0.2342645350632905 F1 Score 0.3435222472600288\n",
            "Precision: 0.6367090844821492 Recall: 0.24013747093065907 F1 Score 0.34874450568865234\n",
            "Precision: 0.6222693531283148 Recall: 0.23695109360249617 F1 Score 0.343212045989093\n",
            "Precision: 0.6227594757350344 Recall: 0.2319479961414347 F1 Score 0.3380052643220807\n"
          ],
          "name": "stdout"
        }
      ]
    },
    {
      "cell_type": "code",
      "metadata": {
        "id": "9oOANrE9GAKN",
        "colab": {
          "base_uri": "https://localhost:8080/"
        },
        "outputId": "90982cd6-2421-4ac5-b0d0-d765c9775aa3"
      },
      "source": [
        "trainset = data.build_full_trainset()\r\n",
        "algo = SVD()\r\n",
        "algo.fit(trainset)\r\n",
        "\r\n",
        "# Than predict ratings for all pairs (u, i) that are NOT in the training set.\r\n",
        "testset = trainset.build_anti_testset()\r\n",
        "predictions = algo.test(testset)\r\n",
        "\r\n",
        "top_n = get_top_n(predictions, n=10)\r\n",
        "\r\n",
        "# Print the recommended items for a user\r\n",
        "for iid, user_rating in top_n['1']:\r\n",
        "  print(rid_to_name[iid], user_rating)"
      ],
      "execution_count": null,
      "outputs": [
        {
          "output_type": "stream",
          "text": [
            "Close Shave, A (1995) 4.878196785103946\n",
            "Schindler's List (1993) 4.740974583351716\n",
            "Casablanca (1942) 4.700655363197088\n",
            "Rear Window (1954) 4.621991533863955\n",
            "Secrets & Lies (1996) 4.541442366231601\n",
            "Manchurian Candidate, The (1962) 4.5354529524960725\n",
            "Forbidden Planet (1956) 4.5354494923798105\n",
            "Treasure of the Sierra Madre, The (1948) 4.515048004542992\n",
            "Big Sleep, The (1946) 4.508004584156261\n",
            "L.A. Confidential (1997) 4.4840666807668\n"
          ],
          "name": "stdout"
        }
      ]
    },
    {
      "cell_type": "code",
      "metadata": {
        "id": "l82_1Mo3JoU3"
      },
      "source": [
        ""
      ],
      "execution_count": null,
      "outputs": []
    }
  ]
}