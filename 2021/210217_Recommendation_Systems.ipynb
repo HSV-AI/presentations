{
 "cells": [
  {
   "cell_type": "code",
   "execution_count": 1,
   "metadata": {},
   "outputs": [
    {
     "name": "stdout",
     "output_type": "stream",
     "text": [
      "--2021-02-15 12:58:02--  http://files.grouplens.org/datasets/movielens/ml-latest-small.zip\n",
      "Resolving files.grouplens.org (files.grouplens.org)... 128.101.65.152\n",
      "Connecting to files.grouplens.org (files.grouplens.org)|128.101.65.152|:80... connected.\n",
      "HTTP request sent, awaiting response... 200 OK\n",
      "Length: 978202 (955K) [application/zip]\n",
      "Saving to: ‘ml-latest-small.zip’\n",
      "\n",
      "ml-latest-small.zip 100%[===================>] 955.28K  4.44MB/s    in 0.2s    \n",
      "\n",
      "2021-02-15 12:58:05 (4.44 MB/s) - ‘ml-latest-small.zip’ saved [978202/978202]\n",
      "\n"
     ]
    }
   ],
   "source": [
    "!wget http://files.grouplens.org/datasets/movielens/ml-latest-small.zip"
   ]
  },
  {
   "cell_type": "code",
   "execution_count": 2,
   "metadata": {},
   "outputs": [
    {
     "name": "stdout",
     "output_type": "stream",
     "text": [
      "Archive:  ml-latest-small.zip\r\n",
      "   creating: ml-latest-small/\r\n",
      "  inflating: ml-latest-small/links.csv  \r\n",
      "  inflating: ml-latest-small/tags.csv  \r\n",
      "  inflating: ml-latest-small/ratings.csv  \r\n",
      "  inflating: ml-latest-small/README.txt  \r\n",
      "  inflating: ml-latest-small/movies.csv  \r\n"
     ]
    }
   ],
   "source": [
    "!unzip ml-latest-small.zip"
   ]
  },
  {
   "cell_type": "code",
   "execution_count": 4,
   "metadata": {},
   "outputs": [
    {
     "name": "stdout",
     "output_type": "stream",
     "text": [
      "\u001b[33mDEPRECATION: Python 3.5 reached the end of its life on September 13th, 2020. Please upgrade your Python as Python 3.5 is no longer maintained. pip 21.0 will drop support for Python 3.5 in January 2021. pip 21.0 will remove support for this functionality.\u001b[0m\n",
      "Collecting surprise\n",
      "  Downloading surprise-0.1-py2.py3-none-any.whl (1.8 kB)\n",
      "Collecting scikit-surprise\n",
      "  Downloading scikit-surprise-1.1.1.tar.gz (11.8 MB)\n",
      "\u001b[K     |████████████████████████████████| 11.8 MB 3.0 MB/s eta 0:00:01\n",
      "\u001b[?25hCollecting joblib>=0.11\n",
      "  Downloading joblib-0.14.1-py2.py3-none-any.whl (294 kB)\n",
      "\u001b[K     |████████████████████████████████| 294 kB 71.6 MB/s eta 0:00:01\n",
      "\u001b[?25hRequirement already satisfied: numpy>=1.11.2 in /home/jlangley/.platformio/penv/lib/python3.5/site-packages (from scikit-surprise->surprise) (1.18.5)\n",
      "Requirement already satisfied: scipy>=1.0.0 in /home/jlangley/.platformio/penv/lib/python3.5/site-packages (from scikit-surprise->surprise) (1.4.1)\n",
      "Requirement already satisfied: six>=1.10.0 in /home/jlangley/.platformio/penv/lib/python3.5/site-packages (from scikit-surprise->surprise) (1.15.0)\n",
      "Building wheels for collected packages: scikit-surprise\n",
      "  Building wheel for scikit-surprise (setup.py) ... \u001b[?25lerror\n",
      "\u001b[31m  ERROR: Command errored out with exit status 1:\n",
      "   command: /home/jlangley/.platformio/penv/bin/python -u -c 'import sys, setuptools, tokenize; sys.argv[0] = '\"'\"'/tmp/pip-install-7qgrl7ly/scikit-surprise/setup.py'\"'\"'; __file__='\"'\"'/tmp/pip-install-7qgrl7ly/scikit-surprise/setup.py'\"'\"';f=getattr(tokenize, '\"'\"'open'\"'\"', open)(__file__);code=f.read().replace('\"'\"'\\r\\n'\"'\"', '\"'\"'\\n'\"'\"');f.close();exec(compile(code, __file__, '\"'\"'exec'\"'\"'))' bdist_wheel -d /tmp/pip-wheel-3ypa2qkd\n",
      "       cwd: /tmp/pip-install-7qgrl7ly/scikit-surprise/\n",
      "  Complete output (54 lines):\n",
      "  running bdist_wheel\n",
      "  running build\n",
      "  running build_py\n",
      "  creating build\n",
      "  creating build/lib.linux-x86_64-3.5\n",
      "  creating build/lib.linux-x86_64-3.5/surprise\n",
      "  copying surprise/accuracy.py -> build/lib.linux-x86_64-3.5/surprise\n",
      "  copying surprise/builtin_datasets.py -> build/lib.linux-x86_64-3.5/surprise\n",
      "  copying surprise/dataset.py -> build/lib.linux-x86_64-3.5/surprise\n",
      "  copying surprise/reader.py -> build/lib.linux-x86_64-3.5/surprise\n",
      "  copying surprise/utils.py -> build/lib.linux-x86_64-3.5/surprise\n",
      "  copying surprise/__main__.py -> build/lib.linux-x86_64-3.5/surprise\n",
      "  copying surprise/trainset.py -> build/lib.linux-x86_64-3.5/surprise\n",
      "  copying surprise/__init__.py -> build/lib.linux-x86_64-3.5/surprise\n",
      "  copying surprise/dump.py -> build/lib.linux-x86_64-3.5/surprise\n",
      "  creating build/lib.linux-x86_64-3.5/surprise/model_selection\n",
      "  copying surprise/model_selection/search.py -> build/lib.linux-x86_64-3.5/surprise/model_selection\n",
      "  copying surprise/model_selection/split.py -> build/lib.linux-x86_64-3.5/surprise/model_selection\n",
      "  copying surprise/model_selection/validation.py -> build/lib.linux-x86_64-3.5/surprise/model_selection\n",
      "  copying surprise/model_selection/__init__.py -> build/lib.linux-x86_64-3.5/surprise/model_selection\n",
      "  creating build/lib.linux-x86_64-3.5/surprise/prediction_algorithms\n",
      "  copying surprise/prediction_algorithms/predictions.py -> build/lib.linux-x86_64-3.5/surprise/prediction_algorithms\n",
      "  copying surprise/prediction_algorithms/random_pred.py -> build/lib.linux-x86_64-3.5/surprise/prediction_algorithms\n",
      "  copying surprise/prediction_algorithms/algo_base.py -> build/lib.linux-x86_64-3.5/surprise/prediction_algorithms\n",
      "  copying surprise/prediction_algorithms/knns.py -> build/lib.linux-x86_64-3.5/surprise/prediction_algorithms\n",
      "  copying surprise/prediction_algorithms/__init__.py -> build/lib.linux-x86_64-3.5/surprise/prediction_algorithms\n",
      "  copying surprise/prediction_algorithms/baseline_only.py -> build/lib.linux-x86_64-3.5/surprise/prediction_algorithms\n",
      "  running egg_info\n",
      "  writing entry points to scikit_surprise.egg-info/entry_points.txt\n",
      "  writing requirements to scikit_surprise.egg-info/requires.txt\n",
      "  writing top-level names to scikit_surprise.egg-info/top_level.txt\n",
      "  writing dependency_links to scikit_surprise.egg-info/dependency_links.txt\n",
      "  writing scikit_surprise.egg-info/PKG-INFO\n",
      "  reading manifest file 'scikit_surprise.egg-info/SOURCES.txt'\n",
      "  reading manifest template 'MANIFEST.in'\n",
      "  writing manifest file 'scikit_surprise.egg-info/SOURCES.txt'\n",
      "  copying surprise/similarities.c -> build/lib.linux-x86_64-3.5/surprise\n",
      "  copying surprise/similarities.pyx -> build/lib.linux-x86_64-3.5/surprise\n",
      "  copying surprise/prediction_algorithms/co_clustering.c -> build/lib.linux-x86_64-3.5/surprise/prediction_algorithms\n",
      "  copying surprise/prediction_algorithms/co_clustering.pyx -> build/lib.linux-x86_64-3.5/surprise/prediction_algorithms\n",
      "  copying surprise/prediction_algorithms/matrix_factorization.c -> build/lib.linux-x86_64-3.5/surprise/prediction_algorithms\n",
      "  copying surprise/prediction_algorithms/matrix_factorization.pyx -> build/lib.linux-x86_64-3.5/surprise/prediction_algorithms\n",
      "  copying surprise/prediction_algorithms/optimize_baselines.c -> build/lib.linux-x86_64-3.5/surprise/prediction_algorithms\n",
      "  copying surprise/prediction_algorithms/optimize_baselines.pyx -> build/lib.linux-x86_64-3.5/surprise/prediction_algorithms\n",
      "  copying surprise/prediction_algorithms/slope_one.c -> build/lib.linux-x86_64-3.5/surprise/prediction_algorithms\n",
      "  copying surprise/prediction_algorithms/slope_one.pyx -> build/lib.linux-x86_64-3.5/surprise/prediction_algorithms\n",
      "  running build_ext\n",
      "  building 'surprise.similarities' extension\n",
      "  creating build/temp.linux-x86_64-3.5\n",
      "  creating build/temp.linux-x86_64-3.5/surprise\n",
      "  x86_64-linux-gnu-gcc -pthread -DNDEBUG -g -fwrapv -O2 -Wall -Wstrict-prototypes -g -fstack-protector-strong -Wformat -Werror=format-security -Wdate-time -D_FORTIFY_SOURCE=2 -fPIC -I/home/jlangley/.platformio/penv/lib/python3.5/site-packages/numpy/core/include -I/usr/include/python3.5m -I/home/jlangley/.platformio/penv/include/python3.5m -c surprise/similarities.c -o build/temp.linux-x86_64-3.5/surprise/similarities.o\n",
      "  surprise/similarities.c:23:20: fatal error: Python.h: No such file or directory\n",
      "  compilation terminated.\n",
      "  error: command 'x86_64-linux-gnu-gcc' failed with exit status 1\n",
      "  ----------------------------------------\u001b[0m\n",
      "\u001b[31m  ERROR: Failed building wheel for scikit-surprise\u001b[0m\n",
      "\u001b[?25h  Running setup.py clean for scikit-surprise\n",
      "Failed to build scikit-surprise\n",
      "Installing collected packages: joblib, scikit-surprise, surprise\n",
      "    Running setup.py install for scikit-surprise ... \u001b[?25lerror\n",
      "\u001b[31m    ERROR: Command errored out with exit status 1:\n",
      "     command: /home/jlangley/.platformio/penv/bin/python -u -c 'import sys, setuptools, tokenize; sys.argv[0] = '\"'\"'/tmp/pip-install-7qgrl7ly/scikit-surprise/setup.py'\"'\"'; __file__='\"'\"'/tmp/pip-install-7qgrl7ly/scikit-surprise/setup.py'\"'\"';f=getattr(tokenize, '\"'\"'open'\"'\"', open)(__file__);code=f.read().replace('\"'\"'\\r\\n'\"'\"', '\"'\"'\\n'\"'\"');f.close();exec(compile(code, __file__, '\"'\"'exec'\"'\"'))' install --record /tmp/pip-record-yvaa0x4z/install-record.txt --single-version-externally-managed --compile --install-headers /home/jlangley/.platformio/penv/include/site/python3.5/scikit-surprise\n",
      "         cwd: /tmp/pip-install-7qgrl7ly/scikit-surprise/\n",
      "    Complete output (54 lines):\n",
      "    running install\n",
      "    running build\n",
      "    running build_py\n",
      "    creating build\n",
      "    creating build/lib.linux-x86_64-3.5\n",
      "    creating build/lib.linux-x86_64-3.5/surprise\n",
      "    copying surprise/accuracy.py -> build/lib.linux-x86_64-3.5/surprise\n",
      "    copying surprise/builtin_datasets.py -> build/lib.linux-x86_64-3.5/surprise\n",
      "    copying surprise/dataset.py -> build/lib.linux-x86_64-3.5/surprise\n",
      "    copying surprise/reader.py -> build/lib.linux-x86_64-3.5/surprise\n",
      "    copying surprise/utils.py -> build/lib.linux-x86_64-3.5/surprise\n",
      "    copying surprise/__main__.py -> build/lib.linux-x86_64-3.5/surprise\n",
      "    copying surprise/trainset.py -> build/lib.linux-x86_64-3.5/surprise\n",
      "    copying surprise/__init__.py -> build/lib.linux-x86_64-3.5/surprise\n",
      "    copying surprise/dump.py -> build/lib.linux-x86_64-3.5/surprise\n",
      "    creating build/lib.linux-x86_64-3.5/surprise/model_selection\n",
      "    copying surprise/model_selection/search.py -> build/lib.linux-x86_64-3.5/surprise/model_selection\n",
      "    copying surprise/model_selection/split.py -> build/lib.linux-x86_64-3.5/surprise/model_selection\n",
      "    copying surprise/model_selection/validation.py -> build/lib.linux-x86_64-3.5/surprise/model_selection\n",
      "    copying surprise/model_selection/__init__.py -> build/lib.linux-x86_64-3.5/surprise/model_selection\n",
      "    creating build/lib.linux-x86_64-3.5/surprise/prediction_algorithms\n",
      "    copying surprise/prediction_algorithms/predictions.py -> build/lib.linux-x86_64-3.5/surprise/prediction_algorithms\n",
      "    copying surprise/prediction_algorithms/random_pred.py -> build/lib.linux-x86_64-3.5/surprise/prediction_algorithms\n",
      "    copying surprise/prediction_algorithms/algo_base.py -> build/lib.linux-x86_64-3.5/surprise/prediction_algorithms\n",
      "    copying surprise/prediction_algorithms/knns.py -> build/lib.linux-x86_64-3.5/surprise/prediction_algorithms\n",
      "    copying surprise/prediction_algorithms/__init__.py -> build/lib.linux-x86_64-3.5/surprise/prediction_algorithms\n",
      "    copying surprise/prediction_algorithms/baseline_only.py -> build/lib.linux-x86_64-3.5/surprise/prediction_algorithms\n",
      "    running egg_info\n",
      "    writing dependency_links to scikit_surprise.egg-info/dependency_links.txt\n",
      "    writing entry points to scikit_surprise.egg-info/entry_points.txt\n",
      "    writing requirements to scikit_surprise.egg-info/requires.txt\n",
      "    writing top-level names to scikit_surprise.egg-info/top_level.txt\n",
      "    writing scikit_surprise.egg-info/PKG-INFO\n",
      "    reading manifest file 'scikit_surprise.egg-info/SOURCES.txt'\n",
      "    reading manifest template 'MANIFEST.in'\n",
      "    writing manifest file 'scikit_surprise.egg-info/SOURCES.txt'\n",
      "    copying surprise/similarities.c -> build/lib.linux-x86_64-3.5/surprise\n",
      "    copying surprise/similarities.pyx -> build/lib.linux-x86_64-3.5/surprise\n",
      "    copying surprise/prediction_algorithms/co_clustering.c -> build/lib.linux-x86_64-3.5/surprise/prediction_algorithms\n",
      "    copying surprise/prediction_algorithms/co_clustering.pyx -> build/lib.linux-x86_64-3.5/surprise/prediction_algorithms\n",
      "    copying surprise/prediction_algorithms/matrix_factorization.c -> build/lib.linux-x86_64-3.5/surprise/prediction_algorithms\n",
      "    copying surprise/prediction_algorithms/matrix_factorization.pyx -> build/lib.linux-x86_64-3.5/surprise/prediction_algorithms\n",
      "    copying surprise/prediction_algorithms/optimize_baselines.c -> build/lib.linux-x86_64-3.5/surprise/prediction_algorithms\n",
      "    copying surprise/prediction_algorithms/optimize_baselines.pyx -> build/lib.linux-x86_64-3.5/surprise/prediction_algorithms\n",
      "    copying surprise/prediction_algorithms/slope_one.c -> build/lib.linux-x86_64-3.5/surprise/prediction_algorithms\n",
      "    copying surprise/prediction_algorithms/slope_one.pyx -> build/lib.linux-x86_64-3.5/surprise/prediction_algorithms\n",
      "    running build_ext\n",
      "    building 'surprise.similarities' extension\n",
      "    creating build/temp.linux-x86_64-3.5\n",
      "    creating build/temp.linux-x86_64-3.5/surprise\n",
      "    x86_64-linux-gnu-gcc -pthread -DNDEBUG -g -fwrapv -O2 -Wall -Wstrict-prototypes -g -fstack-protector-strong -Wformat -Werror=format-security -Wdate-time -D_FORTIFY_SOURCE=2 -fPIC -I/home/jlangley/.platformio/penv/lib/python3.5/site-packages/numpy/core/include -I/usr/include/python3.5m -I/home/jlangley/.platformio/penv/include/python3.5m -c surprise/similarities.c -o build/temp.linux-x86_64-3.5/surprise/similarities.o\n",
      "    surprise/similarities.c:23:20: fatal error: Python.h: No such file or directory\n",
      "    compilation terminated.\n",
      "    error: command 'x86_64-linux-gnu-gcc' failed with exit status 1\n",
      "    ----------------------------------------\u001b[0m\n",
      "\u001b[31mERROR: Command errored out with exit status 1: /home/jlangley/.platformio/penv/bin/python -u -c 'import sys, setuptools, tokenize; sys.argv[0] = '\"'\"'/tmp/pip-install-7qgrl7ly/scikit-surprise/setup.py'\"'\"'; __file__='\"'\"'/tmp/pip-install-7qgrl7ly/scikit-surprise/setup.py'\"'\"';f=getattr(tokenize, '\"'\"'open'\"'\"', open)(__file__);code=f.read().replace('\"'\"'\\r\\n'\"'\"', '\"'\"'\\n'\"'\"');f.close();exec(compile(code, __file__, '\"'\"'exec'\"'\"'))' install --record /tmp/pip-record-yvaa0x4z/install-record.txt --single-version-externally-managed --compile --install-headers /home/jlangley/.platformio/penv/include/site/python3.5/scikit-surprise Check the logs for full command output.\u001b[0m\n"
     ]
    },
    {
     "name": "stdout",
     "output_type": "stream",
     "text": [
      "\u001b[33mWARNING: You are using pip version 20.2.3; however, version 20.3.4 is available.\r\n",
      "You should consider upgrading via the '/home/jlangley/.platformio/penv/bin/python -m pip install --upgrade pip' command.\u001b[0m\r\n",
      "\u001b[?25h"
     ]
    }
   ],
   "source": [
    "!pip install surprise"
   ]
  },
  {
   "cell_type": "code",
   "execution_count": 3,
   "metadata": {},
   "outputs": [
    {
     "ename": "ModuleNotFoundError",
     "evalue": "No module named 'surprise'",
     "output_type": "error",
     "traceback": [
      "\u001b[0;31m---------------------------------------------------------------------------\u001b[0m",
      "\u001b[0;31mModuleNotFoundError\u001b[0m                       Traceback (most recent call last)",
      "\u001b[0;32m<ipython-input-3-972b5940bdd2>\u001b[0m in \u001b[0;36m<module>\u001b[0;34m()\u001b[0m\n\u001b[0;32m----> 1\u001b[0;31m \u001b[0;32mfrom\u001b[0m \u001b[0msurprise\u001b[0m \u001b[0;32mimport\u001b[0m \u001b[0mDataset\u001b[0m\u001b[0;34m,\u001b[0m \u001b[0mevaluate\u001b[0m\u001b[0;34m\u001b[0m\u001b[0;34m\u001b[0m\u001b[0m\n\u001b[0m\u001b[1;32m      2\u001b[0m \u001b[0;32mfrom\u001b[0m \u001b[0msurprise\u001b[0m \u001b[0;32mimport\u001b[0m \u001b[0mKNNBasic\u001b[0m\u001b[0;34m\u001b[0m\u001b[0;34m\u001b[0m\u001b[0m\n",
      "\u001b[0;31mModuleNotFoundError\u001b[0m: No module named 'surprise'"
     ]
    }
   ],
   "source": [
    "from surprise import Dataset, evaluate\n",
    "from surprise import KNNBasic\n"
   ]
  },
  {
   "cell_type": "code",
   "execution_count": null,
   "metadata": {},
   "outputs": [],
   "source": []
  }
 ],
 "metadata": {
  "kernelspec": {
   "display_name": "Python 3.6.7 64-bit ('anaconda': virtualenv)",
   "language": "python",
   "name": "python36764bitanacondavirtualenvb58dd6c6b1a94502be7b539be867f03a"
  },
  "language_info": {
   "codemirror_mode": {
    "name": "ipython",
    "version": 3
   },
   "file_extension": ".py",
   "mimetype": "text/x-python",
   "name": "python",
   "nbconvert_exporter": "python",
   "pygments_lexer": "ipython3",
   "version": "3.6.12"
  }
 },
 "nbformat": 4,
 "nbformat_minor": 2
}
