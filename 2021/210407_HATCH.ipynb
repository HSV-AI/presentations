{
  "nbformat": 4,
  "nbformat_minor": 0,
  "metadata": {
    "kernelspec": {
      "display_name": "Python 3",
      "language": "python",
      "name": "python3"
    },
    "language_info": {
      "codemirror_mode": {
        "name": "ipython",
        "version": 3
      },
      "file_extension": ".py",
      "mimetype": "text/x-python",
      "name": "python",
      "nbconvert_exporter": "python",
      "pygments_lexer": "ipython3",
      "version": "3.6.4"
    },
    "colab": {
      "name": "HATCH.ipynb",
      "provenance": [],
      "toc_visible": true,
      "include_colab_link": true
    }
  },
  "cells": [
    {
      "cell_type": "markdown",
      "metadata": {
        "id": "view-in-github",
        "colab_type": "text"
      },
      "source": [
        "<a href=\"https://colab.research.google.com/github/HSV-AI/presentations/blob/master/2021/210407_HATCH.ipynb\" target=\"_parent\"><img src=\"https://colab.research.google.com/assets/colab-badge.svg\" alt=\"Open In Colab\"/></a>"
      ]
    },
    {
      "cell_type": "markdown",
      "metadata": {
        "id": "RXP1KYRiY_YL"
      },
      "source": [
        "![HSV-AI Logo](https://github.com/HSV-AI/hugo-website/blob/master/static/images/logo_v9.png?raw=true)\n"
      ]
    },
    {
      "cell_type": "markdown",
      "metadata": {
        "id": "xAi80HnmBD_r"
      },
      "source": [
        "# Classification with Scikit-Learn\n",
        "\n",
        "This notebook is a walkthrough of different classification approaches provided by the Scikit-Learn library.\n",
        "\n",
        "The dataset that we will use for this example was provided by the Higgs Boson Machine Learning Challenge on Kaggle and can be found here: [Dataset](https://www.kaggle.com/c/higgs-boson/data)\n",
        "\n",
        "## From the description:\n",
        "\n",
        "File descriptions\n",
        "* training.csv - Training set of 250000 events, with an ID column, 30 feature columns, a weight column and a label column.\n",
        "* test.csv - Test set of 550000 events with an ID column and 30 feature columns.\n",
        "* random_submission - Sample submission file in the correct format. File format is described on the Evaluation page.\n",
        "* HiggsBosonCompetition_AMSMetric - Python script to calculate the competition evaluation metric.\n",
        "\n",
        "For detailed information on the semantics of the features, labels, and weights, see the technical documentation from the LAL website on the task.\n",
        "\n",
        "Some details to get started:\n",
        "\n",
        "All variables are floating point, except PRI_jet_num which is integer\n",
        "variables prefixed with PRI (for PRImitives) are “raw” quantities about the bunch collision as measured by the detector.\n",
        "\n",
        "Variables prefixed with DER (for DERived) are quantities computed from the primitive features, which were selected by  the physicists of ATLAS\n",
        "it can happen that for some entries some variables are meaningless or cannot be computed; in this case, their value is −999.0, which is outside the normal range of all variables.\n",
        "\n",
        "The full description of this dataset is available [here](https://higgsml.lal.in2p3.fr/files/2014/04/documentation_v1.8.pdf)\n",
        "\n",
        "## Loading data\n",
        "\n",
        "First we will load this data from the csv file into a Pandas dataframe and get a look at it.\n",
        "\n",
        "You can see that by using a 0 based index, the features are in columns 1-31 and the class is in column 33.\n",
        "\n",
        "## Kaggle API\n",
        "\n",
        "Using the Kaggle API is not required for this particular challenge, but is shown here in case you need to pull similar data in the future. The first step is to create an account on Kaggle and create a key for yourself.\n",
        "\n",
        "Instead of storing the API key in Github **(NEVER DO THAT!!!)** - I'm storing it in my Google Drive and accessing it by mounting the drive into this notebook.\n",
        "\n",
        "Using the key, I can call the Kaggle API to download the data."
      ]
    },
    {
      "cell_type": "code",
      "metadata": {
        "id": "GkOvV5OBRh1O",
        "outputId": "d06762c6-a943-4b67-a6ed-924965372c32",
        "colab": {
          "base_uri": "https://localhost:8080/"
        }
      },
      "source": [
        "from google.colab import drive\n",
        "drive.mount('/content/drive')"
      ],
      "execution_count": 2,
      "outputs": [
        {
          "output_type": "stream",
          "text": [
            "Drive already mounted at /content/drive; to attempt to forcibly remount, call drive.mount(\"/content/drive\", force_remount=True).\n"
          ],
          "name": "stdout"
        }
      ]
    },
    {
      "cell_type": "code",
      "metadata": {
        "id": "58N2umUBRpFO",
        "outputId": "a9d3d040-801f-40b7-c765-d308577c1dfc",
        "colab": {
          "base_uri": "https://localhost:8080/"
        }
      },
      "source": [
        "!pip install kaggle"
      ],
      "execution_count": 3,
      "outputs": [
        {
          "output_type": "stream",
          "text": [
            "Requirement already satisfied: kaggle in /usr/local/lib/python3.7/dist-packages (1.5.12)\n",
            "Requirement already satisfied: python-slugify in /usr/local/lib/python3.7/dist-packages (from kaggle) (4.0.1)\n",
            "Requirement already satisfied: python-dateutil in /usr/local/lib/python3.7/dist-packages (from kaggle) (2.8.1)\n",
            "Requirement already satisfied: requests in /usr/local/lib/python3.7/dist-packages (from kaggle) (2.23.0)\n",
            "Requirement already satisfied: certifi in /usr/local/lib/python3.7/dist-packages (from kaggle) (2020.12.5)\n",
            "Requirement already satisfied: urllib3 in /usr/local/lib/python3.7/dist-packages (from kaggle) (1.24.3)\n",
            "Requirement already satisfied: tqdm in /usr/local/lib/python3.7/dist-packages (from kaggle) (4.41.1)\n",
            "Requirement already satisfied: six>=1.10 in /usr/local/lib/python3.7/dist-packages (from kaggle) (1.15.0)\n",
            "Requirement already satisfied: text-unidecode>=1.3 in /usr/local/lib/python3.7/dist-packages (from python-slugify->kaggle) (1.3)\n",
            "Requirement already satisfied: idna<3,>=2.5 in /usr/local/lib/python3.7/dist-packages (from requests->kaggle) (2.10)\n",
            "Requirement already satisfied: chardet<4,>=3.0.2 in /usr/local/lib/python3.7/dist-packages (from requests->kaggle) (3.0.4)\n"
          ],
          "name": "stdout"
        }
      ]
    },
    {
      "cell_type": "code",
      "metadata": {
        "id": "eLMg9zgiRvqE",
        "outputId": "34c0adb4-9e3b-4d00-e20e-2a707bab0679",
        "colab": {
          "base_uri": "https://localhost:8080/"
        }
      },
      "source": [
        "!KAGGLE_CONFIG_DIR=/content/drive/MyDrive/GoogleCollab kaggle -v"
      ],
      "execution_count": 4,
      "outputs": [
        {
          "output_type": "stream",
          "text": [
            "Kaggle API 1.5.4\n"
          ],
          "name": "stdout"
        }
      ]
    },
    {
      "cell_type": "code",
      "metadata": {
        "id": "InCy-MvERyHu",
        "outputId": "cad10bab-1f30-4bb3-dfd2-7549fdc94d43",
        "colab": {
          "base_uri": "https://localhost:8080/"
        }
      },
      "source": [
        "!KAGGLE_CONFIG_DIR=/content/drive/MyDrive/GoogleCollab kaggle competitions download -c higgs-boson"
      ],
      "execution_count": 5,
      "outputs": [
        {
          "output_type": "stream",
          "text": [
            "Warning: Looks like you're using an outdated API Version, please consider updating (server 1.5.12 / client 1.5.4)\n",
            "Downloading HiggsBosonCompetition_AMSMetric_rev1.py to /content\n",
            "  0% 0.00/3.15k [00:00<?, ?B/s]\n",
            "100% 3.15k/3.15k [00:00<00:00, 6.78MB/s]\n",
            "Downloading test.zip to /content\n",
            " 57% 20.0M/34.8M [00:00<00:00, 37.7MB/s]\n",
            "100% 34.8M/34.8M [00:00<00:00, 99.8MB/s]\n",
            "Downloading training.zip to /content\n",
            " 53% 9.00M/16.9M [00:00<00:00, 32.3MB/s]\n",
            "100% 16.9M/16.9M [00:00<00:00, 42.6MB/s]\n",
            "Downloading random_submission.zip to /content\n",
            "  0% 0.00/2.58M [00:00<?, ?B/s]\n",
            "100% 2.58M/2.58M [00:00<00:00, 173MB/s]\n"
          ],
          "name": "stdout"
        }
      ]
    },
    {
      "cell_type": "code",
      "metadata": {
        "id": "Ez-WmrVYSKSE",
        "outputId": "330edf59-5359-4213-956b-351025eae589",
        "colab": {
          "base_uri": "https://localhost:8080/"
        }
      },
      "source": [
        "!unzip /content/training.zip"
      ],
      "execution_count": 7,
      "outputs": [
        {
          "output_type": "stream",
          "text": [
            "Archive:  /content/training.zip\n",
            "  inflating: training.csv            \n"
          ],
          "name": "stdout"
        }
      ]
    },
    {
      "cell_type": "code",
      "metadata": {
        "id": "ZaYVS9TtST9z",
        "outputId": "e522327e-2732-4068-b9f0-625702400815",
        "colab": {
          "base_uri": "https://localhost:8080/",
          "height": 377
        }
      },
      "source": [
        "import pandas as pd\n",
        "import matplotlib.pyplot as plt\n",
        "import numpy as np\n",
        "from sklearn import metrics\n",
        "\n",
        "df = pd.read_csv(\"/content/training.csv\") \n",
        "# Preview the first 5 lines of the loaded data \n",
        "df.head(10)"
      ],
      "execution_count": 9,
      "outputs": [
        {
          "output_type": "execute_result",
          "data": {
            "text/html": [
              "<div>\n",
              "<style scoped>\n",
              "    .dataframe tbody tr th:only-of-type {\n",
              "        vertical-align: middle;\n",
              "    }\n",
              "\n",
              "    .dataframe tbody tr th {\n",
              "        vertical-align: top;\n",
              "    }\n",
              "\n",
              "    .dataframe thead th {\n",
              "        text-align: right;\n",
              "    }\n",
              "</style>\n",
              "<table border=\"1\" class=\"dataframe\">\n",
              "  <thead>\n",
              "    <tr style=\"text-align: right;\">\n",
              "      <th></th>\n",
              "      <th>EventId</th>\n",
              "      <th>DER_mass_MMC</th>\n",
              "      <th>DER_mass_transverse_met_lep</th>\n",
              "      <th>DER_mass_vis</th>\n",
              "      <th>DER_pt_h</th>\n",
              "      <th>DER_deltaeta_jet_jet</th>\n",
              "      <th>DER_mass_jet_jet</th>\n",
              "      <th>DER_prodeta_jet_jet</th>\n",
              "      <th>DER_deltar_tau_lep</th>\n",
              "      <th>DER_pt_tot</th>\n",
              "      <th>DER_sum_pt</th>\n",
              "      <th>DER_pt_ratio_lep_tau</th>\n",
              "      <th>DER_met_phi_centrality</th>\n",
              "      <th>DER_lep_eta_centrality</th>\n",
              "      <th>PRI_tau_pt</th>\n",
              "      <th>PRI_tau_eta</th>\n",
              "      <th>PRI_tau_phi</th>\n",
              "      <th>PRI_lep_pt</th>\n",
              "      <th>PRI_lep_eta</th>\n",
              "      <th>PRI_lep_phi</th>\n",
              "      <th>PRI_met</th>\n",
              "      <th>PRI_met_phi</th>\n",
              "      <th>PRI_met_sumet</th>\n",
              "      <th>PRI_jet_num</th>\n",
              "      <th>PRI_jet_leading_pt</th>\n",
              "      <th>PRI_jet_leading_eta</th>\n",
              "      <th>PRI_jet_leading_phi</th>\n",
              "      <th>PRI_jet_subleading_pt</th>\n",
              "      <th>PRI_jet_subleading_eta</th>\n",
              "      <th>PRI_jet_subleading_phi</th>\n",
              "      <th>PRI_jet_all_pt</th>\n",
              "      <th>Weight</th>\n",
              "      <th>Label</th>\n",
              "    </tr>\n",
              "  </thead>\n",
              "  <tbody>\n",
              "    <tr>\n",
              "      <th>0</th>\n",
              "      <td>100000</td>\n",
              "      <td>138.470</td>\n",
              "      <td>51.655</td>\n",
              "      <td>97.827</td>\n",
              "      <td>27.980</td>\n",
              "      <td>0.910</td>\n",
              "      <td>124.711</td>\n",
              "      <td>2.666</td>\n",
              "      <td>3.064</td>\n",
              "      <td>41.928</td>\n",
              "      <td>197.760</td>\n",
              "      <td>1.582</td>\n",
              "      <td>1.396</td>\n",
              "      <td>0.200</td>\n",
              "      <td>32.638</td>\n",
              "      <td>1.017</td>\n",
              "      <td>0.381</td>\n",
              "      <td>51.626</td>\n",
              "      <td>2.273</td>\n",
              "      <td>-2.414</td>\n",
              "      <td>16.824</td>\n",
              "      <td>-0.277</td>\n",
              "      <td>258.733</td>\n",
              "      <td>2</td>\n",
              "      <td>67.435</td>\n",
              "      <td>2.150</td>\n",
              "      <td>0.444</td>\n",
              "      <td>46.062</td>\n",
              "      <td>1.240</td>\n",
              "      <td>-2.475</td>\n",
              "      <td>113.497</td>\n",
              "      <td>0.002653</td>\n",
              "      <td>s</td>\n",
              "    </tr>\n",
              "    <tr>\n",
              "      <th>1</th>\n",
              "      <td>100001</td>\n",
              "      <td>160.937</td>\n",
              "      <td>68.768</td>\n",
              "      <td>103.235</td>\n",
              "      <td>48.146</td>\n",
              "      <td>-999.000</td>\n",
              "      <td>-999.000</td>\n",
              "      <td>-999.000</td>\n",
              "      <td>3.473</td>\n",
              "      <td>2.078</td>\n",
              "      <td>125.157</td>\n",
              "      <td>0.879</td>\n",
              "      <td>1.414</td>\n",
              "      <td>-999.000</td>\n",
              "      <td>42.014</td>\n",
              "      <td>2.039</td>\n",
              "      <td>-3.011</td>\n",
              "      <td>36.918</td>\n",
              "      <td>0.501</td>\n",
              "      <td>0.103</td>\n",
              "      <td>44.704</td>\n",
              "      <td>-1.916</td>\n",
              "      <td>164.546</td>\n",
              "      <td>1</td>\n",
              "      <td>46.226</td>\n",
              "      <td>0.725</td>\n",
              "      <td>1.158</td>\n",
              "      <td>-999.000</td>\n",
              "      <td>-999.000</td>\n",
              "      <td>-999.000</td>\n",
              "      <td>46.226</td>\n",
              "      <td>2.233584</td>\n",
              "      <td>b</td>\n",
              "    </tr>\n",
              "    <tr>\n",
              "      <th>2</th>\n",
              "      <td>100002</td>\n",
              "      <td>-999.000</td>\n",
              "      <td>162.172</td>\n",
              "      <td>125.953</td>\n",
              "      <td>35.635</td>\n",
              "      <td>-999.000</td>\n",
              "      <td>-999.000</td>\n",
              "      <td>-999.000</td>\n",
              "      <td>3.148</td>\n",
              "      <td>9.336</td>\n",
              "      <td>197.814</td>\n",
              "      <td>3.776</td>\n",
              "      <td>1.414</td>\n",
              "      <td>-999.000</td>\n",
              "      <td>32.154</td>\n",
              "      <td>-0.705</td>\n",
              "      <td>-2.093</td>\n",
              "      <td>121.409</td>\n",
              "      <td>-0.953</td>\n",
              "      <td>1.052</td>\n",
              "      <td>54.283</td>\n",
              "      <td>-2.186</td>\n",
              "      <td>260.414</td>\n",
              "      <td>1</td>\n",
              "      <td>44.251</td>\n",
              "      <td>2.053</td>\n",
              "      <td>-2.028</td>\n",
              "      <td>-999.000</td>\n",
              "      <td>-999.000</td>\n",
              "      <td>-999.000</td>\n",
              "      <td>44.251</td>\n",
              "      <td>2.347389</td>\n",
              "      <td>b</td>\n",
              "    </tr>\n",
              "    <tr>\n",
              "      <th>3</th>\n",
              "      <td>100003</td>\n",
              "      <td>143.905</td>\n",
              "      <td>81.417</td>\n",
              "      <td>80.943</td>\n",
              "      <td>0.414</td>\n",
              "      <td>-999.000</td>\n",
              "      <td>-999.000</td>\n",
              "      <td>-999.000</td>\n",
              "      <td>3.310</td>\n",
              "      <td>0.414</td>\n",
              "      <td>75.968</td>\n",
              "      <td>2.354</td>\n",
              "      <td>-1.285</td>\n",
              "      <td>-999.000</td>\n",
              "      <td>22.647</td>\n",
              "      <td>-1.655</td>\n",
              "      <td>0.010</td>\n",
              "      <td>53.321</td>\n",
              "      <td>-0.522</td>\n",
              "      <td>-3.100</td>\n",
              "      <td>31.082</td>\n",
              "      <td>0.060</td>\n",
              "      <td>86.062</td>\n",
              "      <td>0</td>\n",
              "      <td>-999.000</td>\n",
              "      <td>-999.000</td>\n",
              "      <td>-999.000</td>\n",
              "      <td>-999.000</td>\n",
              "      <td>-999.000</td>\n",
              "      <td>-999.000</td>\n",
              "      <td>-0.000</td>\n",
              "      <td>5.446378</td>\n",
              "      <td>b</td>\n",
              "    </tr>\n",
              "    <tr>\n",
              "      <th>4</th>\n",
              "      <td>100004</td>\n",
              "      <td>175.864</td>\n",
              "      <td>16.915</td>\n",
              "      <td>134.805</td>\n",
              "      <td>16.405</td>\n",
              "      <td>-999.000</td>\n",
              "      <td>-999.000</td>\n",
              "      <td>-999.000</td>\n",
              "      <td>3.891</td>\n",
              "      <td>16.405</td>\n",
              "      <td>57.983</td>\n",
              "      <td>1.056</td>\n",
              "      <td>-1.385</td>\n",
              "      <td>-999.000</td>\n",
              "      <td>28.209</td>\n",
              "      <td>-2.197</td>\n",
              "      <td>-2.231</td>\n",
              "      <td>29.774</td>\n",
              "      <td>0.798</td>\n",
              "      <td>1.569</td>\n",
              "      <td>2.723</td>\n",
              "      <td>-0.871</td>\n",
              "      <td>53.131</td>\n",
              "      <td>0</td>\n",
              "      <td>-999.000</td>\n",
              "      <td>-999.000</td>\n",
              "      <td>-999.000</td>\n",
              "      <td>-999.000</td>\n",
              "      <td>-999.000</td>\n",
              "      <td>-999.000</td>\n",
              "      <td>0.000</td>\n",
              "      <td>6.245333</td>\n",
              "      <td>b</td>\n",
              "    </tr>\n",
              "    <tr>\n",
              "      <th>5</th>\n",
              "      <td>100005</td>\n",
              "      <td>89.744</td>\n",
              "      <td>13.550</td>\n",
              "      <td>59.149</td>\n",
              "      <td>116.344</td>\n",
              "      <td>2.636</td>\n",
              "      <td>284.584</td>\n",
              "      <td>-0.540</td>\n",
              "      <td>1.362</td>\n",
              "      <td>61.619</td>\n",
              "      <td>278.876</td>\n",
              "      <td>0.588</td>\n",
              "      <td>0.479</td>\n",
              "      <td>0.975</td>\n",
              "      <td>53.651</td>\n",
              "      <td>0.371</td>\n",
              "      <td>1.329</td>\n",
              "      <td>31.565</td>\n",
              "      <td>-0.884</td>\n",
              "      <td>1.857</td>\n",
              "      <td>40.735</td>\n",
              "      <td>2.237</td>\n",
              "      <td>282.849</td>\n",
              "      <td>3</td>\n",
              "      <td>90.547</td>\n",
              "      <td>-2.412</td>\n",
              "      <td>-0.653</td>\n",
              "      <td>56.165</td>\n",
              "      <td>0.224</td>\n",
              "      <td>3.106</td>\n",
              "      <td>193.660</td>\n",
              "      <td>0.083414</td>\n",
              "      <td>b</td>\n",
              "    </tr>\n",
              "    <tr>\n",
              "      <th>6</th>\n",
              "      <td>100006</td>\n",
              "      <td>148.754</td>\n",
              "      <td>28.862</td>\n",
              "      <td>107.782</td>\n",
              "      <td>106.130</td>\n",
              "      <td>0.733</td>\n",
              "      <td>158.359</td>\n",
              "      <td>0.113</td>\n",
              "      <td>2.941</td>\n",
              "      <td>2.545</td>\n",
              "      <td>305.967</td>\n",
              "      <td>3.371</td>\n",
              "      <td>1.393</td>\n",
              "      <td>0.791</td>\n",
              "      <td>28.850</td>\n",
              "      <td>1.113</td>\n",
              "      <td>2.409</td>\n",
              "      <td>97.240</td>\n",
              "      <td>0.675</td>\n",
              "      <td>-0.966</td>\n",
              "      <td>38.421</td>\n",
              "      <td>-1.443</td>\n",
              "      <td>294.074</td>\n",
              "      <td>2</td>\n",
              "      <td>123.010</td>\n",
              "      <td>0.864</td>\n",
              "      <td>1.450</td>\n",
              "      <td>56.867</td>\n",
              "      <td>0.131</td>\n",
              "      <td>-2.767</td>\n",
              "      <td>179.877</td>\n",
              "      <td>0.002653</td>\n",
              "      <td>s</td>\n",
              "    </tr>\n",
              "    <tr>\n",
              "      <th>7</th>\n",
              "      <td>100007</td>\n",
              "      <td>154.916</td>\n",
              "      <td>10.418</td>\n",
              "      <td>94.714</td>\n",
              "      <td>29.169</td>\n",
              "      <td>-999.000</td>\n",
              "      <td>-999.000</td>\n",
              "      <td>-999.000</td>\n",
              "      <td>2.897</td>\n",
              "      <td>1.526</td>\n",
              "      <td>138.178</td>\n",
              "      <td>0.365</td>\n",
              "      <td>-1.305</td>\n",
              "      <td>-999.000</td>\n",
              "      <td>78.800</td>\n",
              "      <td>0.654</td>\n",
              "      <td>1.547</td>\n",
              "      <td>28.740</td>\n",
              "      <td>0.506</td>\n",
              "      <td>-1.347</td>\n",
              "      <td>22.275</td>\n",
              "      <td>-1.761</td>\n",
              "      <td>187.299</td>\n",
              "      <td>1</td>\n",
              "      <td>30.638</td>\n",
              "      <td>-0.715</td>\n",
              "      <td>-1.724</td>\n",
              "      <td>-999.000</td>\n",
              "      <td>-999.000</td>\n",
              "      <td>-999.000</td>\n",
              "      <td>30.638</td>\n",
              "      <td>0.018636</td>\n",
              "      <td>s</td>\n",
              "    </tr>\n",
              "    <tr>\n",
              "      <th>8</th>\n",
              "      <td>100008</td>\n",
              "      <td>105.594</td>\n",
              "      <td>50.559</td>\n",
              "      <td>100.989</td>\n",
              "      <td>4.288</td>\n",
              "      <td>-999.000</td>\n",
              "      <td>-999.000</td>\n",
              "      <td>-999.000</td>\n",
              "      <td>2.904</td>\n",
              "      <td>4.288</td>\n",
              "      <td>65.333</td>\n",
              "      <td>0.675</td>\n",
              "      <td>-1.366</td>\n",
              "      <td>-999.000</td>\n",
              "      <td>39.008</td>\n",
              "      <td>2.433</td>\n",
              "      <td>-2.532</td>\n",
              "      <td>26.325</td>\n",
              "      <td>0.210</td>\n",
              "      <td>1.884</td>\n",
              "      <td>37.791</td>\n",
              "      <td>0.024</td>\n",
              "      <td>129.804</td>\n",
              "      <td>0</td>\n",
              "      <td>-999.000</td>\n",
              "      <td>-999.000</td>\n",
              "      <td>-999.000</td>\n",
              "      <td>-999.000</td>\n",
              "      <td>-999.000</td>\n",
              "      <td>-999.000</td>\n",
              "      <td>0.000</td>\n",
              "      <td>5.296003</td>\n",
              "      <td>b</td>\n",
              "    </tr>\n",
              "    <tr>\n",
              "      <th>9</th>\n",
              "      <td>100009</td>\n",
              "      <td>128.053</td>\n",
              "      <td>88.941</td>\n",
              "      <td>69.272</td>\n",
              "      <td>193.392</td>\n",
              "      <td>-999.000</td>\n",
              "      <td>-999.000</td>\n",
              "      <td>-999.000</td>\n",
              "      <td>1.609</td>\n",
              "      <td>28.859</td>\n",
              "      <td>255.123</td>\n",
              "      <td>0.599</td>\n",
              "      <td>0.538</td>\n",
              "      <td>-999.000</td>\n",
              "      <td>54.646</td>\n",
              "      <td>-1.533</td>\n",
              "      <td>0.416</td>\n",
              "      <td>32.742</td>\n",
              "      <td>-0.317</td>\n",
              "      <td>-0.636</td>\n",
              "      <td>132.678</td>\n",
              "      <td>0.845</td>\n",
              "      <td>294.741</td>\n",
              "      <td>1</td>\n",
              "      <td>167.735</td>\n",
              "      <td>-2.767</td>\n",
              "      <td>-2.514</td>\n",
              "      <td>-999.000</td>\n",
              "      <td>-999.000</td>\n",
              "      <td>-999.000</td>\n",
              "      <td>167.735</td>\n",
              "      <td>0.001502</td>\n",
              "      <td>s</td>\n",
              "    </tr>\n",
              "  </tbody>\n",
              "</table>\n",
              "</div>"
            ],
            "text/plain": [
              "   EventId  DER_mass_MMC  ...    Weight  Label\n",
              "0   100000       138.470  ...  0.002653      s\n",
              "1   100001       160.937  ...  2.233584      b\n",
              "2   100002      -999.000  ...  2.347389      b\n",
              "3   100003       143.905  ...  5.446378      b\n",
              "4   100004       175.864  ...  6.245333      b\n",
              "5   100005        89.744  ...  0.083414      b\n",
              "6   100006       148.754  ...  0.002653      s\n",
              "7   100007       154.916  ...  0.018636      s\n",
              "8   100008       105.594  ...  5.296003      b\n",
              "9   100009       128.053  ...  0.001502      s\n",
              "\n",
              "[10 rows x 33 columns]"
            ]
          },
          "metadata": {
            "tags": []
          },
          "execution_count": 9
        }
      ]
    },
    {
      "cell_type": "code",
      "metadata": {
        "scrolled": true,
        "id": "LZUr_nQ9BD_w",
        "colab": {
          "base_uri": "https://localhost:8080/"
        },
        "outputId": "05693a0b-bba7-4521-eda3-2fea870a6270"
      },
      "source": [
        "print(\"Total number of rows: %d\" % len(df))\n",
        "print(\"Breakdown by class:\")\n",
        "print(df.groupby('Label').size())"
      ],
      "execution_count": 40,
      "outputs": [
        {
          "output_type": "stream",
          "text": [
            "Total number of rows: 10000\n",
            "Breakdown by class:\n",
            "Label\n",
            "b    6553\n",
            "s    3447\n",
            "dtype: int64\n"
          ],
          "name": "stdout"
        }
      ]
    },
    {
      "cell_type": "code",
      "metadata": {
        "id": "LwZorp60V2AM"
      },
      "source": [
        "df = df.sample(n=10000)"
      ],
      "execution_count": 11,
      "outputs": []
    },
    {
      "cell_type": "markdown",
      "metadata": {
        "id": "LkF-7fGKBD_y"
      },
      "source": [
        "## Training & Validation\n",
        "\n",
        "Before we start looking at different methods for classification, we need to split this data into a training set and a validation set. The problem is that if we train using all of the data, we do not have an independent way of testing the accuracy of the model.\n",
        "\n",
        "Luckily, scikit-learn provides an easy way to do this: [train_test_split](https://scikit-learn.org/stable/modules/generated/sklearn.model_selection.train_test_split.html)\n",
        "\n",
        "First, we will slice the original dataframe to create a dataframe with only the 166 attributes, and another with only the classes."
      ]
    },
    {
      "cell_type": "code",
      "metadata": {
        "scrolled": true,
        "id": "j6QWKhMKBD_z",
        "colab": {
          "base_uri": "https://localhost:8080/"
        },
        "outputId": "7895e733-c50e-4ed5-80ad-1b04d24e8499"
      },
      "source": [
        "from sklearn.model_selection import train_test_split\n",
        "\n",
        "X = df.iloc[:,1:31]\n",
        "y = df.iloc[:, 32]\n",
        "\n",
        "print(X.head())\n",
        "\n",
        "print('now the labels:')\n",
        "print(y.head())\n",
        "Xtrain, Xtest, ytrain, ytest = train_test_split(X, y, test_size=.25)"
      ],
      "execution_count": 41,
      "outputs": [
        {
          "output_type": "stream",
          "text": [
            "        DER_mass_MMC  ...  PRI_jet_all_pt\n",
            "181150        70.667  ...           0.000\n",
            "198020       109.703  ...          67.556\n",
            "158339      -999.000  ...          47.824\n",
            "12549       -999.000  ...          -0.000\n",
            "194263       376.864  ...           0.000\n",
            "\n",
            "[5 rows x 30 columns]\n",
            "now the labels:\n",
            "181150    b\n",
            "198020    b\n",
            "158339    b\n",
            "12549     b\n",
            "194263    b\n",
            "Name: Label, dtype: object\n"
          ],
          "name": "stdout"
        }
      ]
    },
    {
      "cell_type": "markdown",
      "metadata": {
        "id": "x0M6zp7LBD_1"
      },
      "source": [
        "## Classifier Testing Approach\n",
        "\n",
        "Now that we have the data ready for training and validation, we can start working through the different classifiers provided by scikit-learn. To do that, we will look at two primary measurements of each classifier:\n",
        "1. Accuracy - what percentage of the overal set did the model classify correctly\n",
        "2. Confusion Matrix - which classes were classified correctly, and which were classified as the opposite\n",
        "\n",
        "Here is a great write-up for a [Confusion Matrix](https://www.dataschool.io/simple-guide-to-confusion-matrix-terminology/)\n",
        "\n",
        "A good place to start for finding a list of classifiers is [here](https://scikit-learn.org/stable/auto_examples/classification/plot_classifier_comparison.html)\n"
      ]
    },
    {
      "cell_type": "markdown",
      "metadata": {
        "id": "c3fxpasfBD_1"
      },
      "source": [
        "## Support Vector Machine\n",
        "\n",
        "The first classifier that we will look at is the [Support Vector Classifier](https://scikit-learn.org/stable/modules/generated/sklearn.svm.SVC.html)\n",
        "\n",
        "This can be used with several different kernel types. We will start with the default 'rbf'"
      ]
    },
    {
      "cell_type": "code",
      "metadata": {
        "scrolled": true,
        "id": "UE8Cy1iVBD_2",
        "colab": {
          "base_uri": "https://localhost:8080/",
          "height": 389
        },
        "outputId": "1d75af5c-ed50-4ded-af72-c91808eaf988"
      },
      "source": [
        "from sklearn.svm import SVC  # \"Support Vector Classifier\"\n",
        "clf = SVC(kernel='rbf', gamma='scale')\n",
        "clf.fit(Xtrain, ytrain)\n",
        "ypred = clf.predict(Xtest)\n",
        "print(\"Accuracy: %f\\n\" % metrics.accuracy_score(ypred, ytest))\n",
        "\n",
        "confusion_matrix = metrics.confusion_matrix(ypred, ytest)\n",
        "print(\"Confusion Matrix: \")\n",
        "print(confusion_matrix)\n",
        "print()\n",
        "\n",
        "plt.imshow(confusion_matrix,\n",
        "           interpolation='nearest', cmap=plt.cm.binary)\n",
        "plt.grid(False)\n",
        "plt.colorbar()\n",
        "plt.xlabel(\"predicted label\")\n",
        "plt.ylabel(\"true label\");\n"
      ],
      "execution_count": 42,
      "outputs": [
        {
          "output_type": "stream",
          "text": [
            "Accuracy: 0.692000\n",
            "\n",
            "Confusion Matrix: \n",
            "[[1594  722]\n",
            " [  48  136]]\n",
            "\n"
          ],
          "name": "stdout"
        },
        {
          "output_type": "display_data",
          "data": {
            "image/png": "[encoded data removed]",
            "text/plain": [
              "<Figure size 432x288 with 2 Axes>"
            ]
          },
          "metadata": {
            "tags": [],
            "needs_background": "light"
          }
        }
      ]
    },
    {
      "cell_type": "markdown",
      "metadata": {
        "id": "8INV6DaKBD_4"
      },
      "source": [
        "## Support Vector Machine\n",
        "\n",
        "Next we will try the linear classifier. Note - this takes a long time..."
      ]
    },
    {
      "cell_type": "code",
      "metadata": {
        "scrolled": true,
        "id": "witSC63kBD_5",
        "outputId": "fd17fcf2-f1f9-4145-af0a-6420e54853f7"
      },
      "source": [
        "# from sklearn.svm import SVC  # \"Support Vector Classifier\"\n",
        "# clf = SVC(kernel='linear', gamma='scale')\n",
        "# %time clf.fit(Xtrain, ytrain)\n",
        "# ypred = clf.predict(Xtest)\n",
        "# print(\"Accuracy: %f\\n\" % metrics.accuracy_score(ypred, ytest))\n",
        "\n",
        "# confusion_matrix = metrics.confusion_matrix(ypred, ytest)\n",
        "# print(\"Confusion Matrix: \")\n",
        "# print(confusion_matrix)\n",
        "# print()\n",
        "\n",
        "# plt.imshow(confusion_matrix,\n",
        "#            interpolation='nearest', cmap=plt.cm.binary)\n",
        "# plt.grid(False)\n",
        "# plt.colorbar()\n",
        "# plt.xlabel(\"predicted label\")\n",
        "# plt.ylabel(\"true label\");\n"
      ],
      "execution_count": null,
      "outputs": [
        {
          "output_type": "stream",
          "text": [
            "CPU times: user 2h 15min 33s, sys: 97.1 ms, total: 2h 15min 34s\n",
            "Wall time: 2h 15min 33s\n",
            "Accuracy: 0.949697\n",
            "\n",
            "Confusion Matrix: \n",
            "[[1366   54]\n",
            " [  29  201]]\n",
            "\n"
          ],
          "name": "stdout"
        },
        {
          "output_type": "display_data",
          "data": {
            "image/png": "[encoded data removed]",
            "text/plain": [
              "<matplotlib.figure.Figure at 0x7f0f7861d320>"
            ]
          },
          "metadata": {
            "tags": []
          }
        }
      ]
    },
    {
      "cell_type": "markdown",
      "metadata": {
        "id": "tNKplPOaBD_9"
      },
      "source": [
        "## Decision Tree Classifier\n",
        "\n",
        "The next classifier that we will look at is the [Decision Tree Classifier](https://scikit-learn.org/stable/modules/generated/sklearn.tree.DecisionTreeClassifier.html).\n",
        "\n"
      ]
    },
    {
      "cell_type": "code",
      "metadata": {
        "scrolled": true,
        "id": "SrBe2dXrBD_9",
        "colab": {
          "base_uri": "https://localhost:8080/",
          "height": 389
        },
        "outputId": "4b522fb7-ecae-4e66-86e9-39898e421e73"
      },
      "source": [
        "from sklearn.tree import DecisionTreeClassifier\n",
        "dtc = DecisionTreeClassifier()\n",
        "dtc.fit(Xtrain, ytrain)\n",
        "ypred = dtc.predict(Xtest)\n",
        "print(\"Accuracy: %f\\n\" % metrics.accuracy_score(ypred, ytest))\n",
        "\n",
        "confusion_matrix = metrics.confusion_matrix(ypred, ytest)\n",
        "print(\"Confusion Matrix: \")\n",
        "print(confusion_matrix)\n",
        "print()\n",
        "\n",
        "plt.imshow(confusion_matrix,\n",
        "           interpolation='nearest', cmap=plt.cm.binary)\n",
        "plt.grid(False)\n",
        "plt.colorbar()\n",
        "plt.xlabel(\"predicted label\")\n",
        "plt.ylabel(\"true label\");\n"
      ],
      "execution_count": 43,
      "outputs": [
        {
          "output_type": "stream",
          "text": [
            "Accuracy: 0.753200\n",
            "\n",
            "Confusion Matrix: \n",
            "[[1341  316]\n",
            " [ 301  542]]\n",
            "\n"
          ],
          "name": "stdout"
        },
        {
          "output_type": "display_data",
          "data": {
            "image/png": "[encoded data removed]",
            "text/plain": [
              "<Figure size 432x288 with 2 Axes>"
            ]
          },
          "metadata": {
            "tags": [],
            "needs_background": "light"
          }
        }
      ]
    },
    {
      "cell_type": "markdown",
      "metadata": {
        "id": "htF_aOn4BD__"
      },
      "source": [
        "## Random Forest Classifier\n",
        "\n",
        "The next classifier that we will look at is the [Random Forest Classifier](https://scikit-learn.org/stable/modules/generated/sklearn.ensemble.RandomForestClassifier.html)\n"
      ]
    },
    {
      "cell_type": "code",
      "metadata": {
        "scrolled": true,
        "id": "TxzXMEmyBEAA",
        "colab": {
          "base_uri": "https://localhost:8080/",
          "height": 389
        },
        "outputId": "83fe5737-0782-439a-b0da-d5ec34ab8fd8"
      },
      "source": [
        "from sklearn.ensemble import RandomForestClassifier\n",
        "rfc = RandomForestClassifier(n_estimators=100, random_state=0)\n",
        "rfc.fit(Xtrain, ytrain)\n",
        "ypred = rfc.predict(Xtest)\n",
        "print(\"Accuracy: %f\\n\" % metrics.accuracy_score(ypred, ytest))\n",
        "\n",
        "confusion_matrix = metrics.confusion_matrix(ypred, ytest)\n",
        "print(\"Confusion Matrix: \")\n",
        "print(confusion_matrix)\n",
        "print()\n",
        "\n",
        "plt.imshow(confusion_matrix,\n",
        "           interpolation='nearest', cmap=plt.cm.binary)\n",
        "plt.grid(False)\n",
        "plt.colorbar()\n",
        "plt.xlabel(\"predicted label\")\n",
        "plt.ylabel(\"true label\");"
      ],
      "execution_count": 44,
      "outputs": [
        {
          "output_type": "stream",
          "text": [
            "Accuracy: 0.838400\n",
            "\n",
            "Confusion Matrix: \n",
            "[[1502  264]\n",
            " [ 140  594]]\n",
            "\n"
          ],
          "name": "stdout"
        },
        {
          "output_type": "display_data",
          "data": {
            "image/png": "[encoded data removed]",
            "text/plain": [
              "<Figure size 432x288 with 2 Axes>"
            ]
          },
          "metadata": {
            "tags": [],
            "needs_background": "light"
          }
        }
      ]
    },
    {
      "cell_type": "markdown",
      "metadata": {
        "id": "5sAdVRd3BEAC"
      },
      "source": [
        "## AdaBoost Classifier\n",
        "\n",
        "How about an [AdaBoost Classifier](https://scikit-learn.org/stable/modules/generated/sklearn.ensemble.AdaBoostClassifier.html#sklearn.ensemble.AdaBoostClassifier)\n"
      ]
    },
    {
      "cell_type": "code",
      "metadata": {
        "scrolled": true,
        "id": "aD-Las9uBEAC",
        "colab": {
          "base_uri": "https://localhost:8080/",
          "height": 389
        },
        "outputId": "e0c9eb73-d9eb-4f9e-c4d2-1f06cc90634b"
      },
      "source": [
        "from sklearn.ensemble import AdaBoostClassifier\n",
        "abc = AdaBoostClassifier(random_state=0)\n",
        "abc.fit(Xtrain, ytrain)\n",
        "ypred = abc.predict(Xtest)\n",
        "print(\"Accuracy: %f\\n\" % metrics.accuracy_score(ypred, ytest))\n",
        "\n",
        "confusion_matrix = metrics.confusion_matrix(ypred, ytest)\n",
        "print(\"Confusion Matrix: \")\n",
        "print(confusion_matrix)\n",
        "print()\n",
        "\n",
        "plt.imshow(confusion_matrix,\n",
        "           interpolation='nearest', cmap=plt.cm.binary)\n",
        "plt.grid(False)\n",
        "plt.colorbar()\n",
        "plt.xlabel(\"predicted label\")\n",
        "plt.ylabel(\"true label\");"
      ],
      "execution_count": 45,
      "outputs": [
        {
          "output_type": "stream",
          "text": [
            "Accuracy: 0.822400\n",
            "\n",
            "Confusion Matrix: \n",
            "[[1438  240]\n",
            " [ 204  618]]\n",
            "\n"
          ],
          "name": "stdout"
        },
        {
          "output_type": "display_data",
          "data": {
            "image/png": "[encoded data removed]",
            "text/plain": [
              "<Figure size 432x288 with 2 Axes>"
            ]
          },
          "metadata": {
            "tags": [],
            "needs_background": "light"
          }
        }
      ]
    },
    {
      "cell_type": "markdown",
      "metadata": {
        "id": "fj3TQ5TJBEAG"
      },
      "source": [
        "## Gaussian Naive Bayes\n",
        "\n",
        "Did someone say \"[Gaussian Naive Bays](https://scikit-learn.org/stable/modules/generated/sklearn.naive_bayes.GaussianNB.html#sklearn.naive_bayes.GaussianNB)\"?"
      ]
    },
    {
      "cell_type": "code",
      "metadata": {
        "scrolled": true,
        "id": "tPHZpWZiBEAJ",
        "colab": {
          "base_uri": "https://localhost:8080/",
          "height": 389
        },
        "outputId": "1a626c66-f46c-4210-9547-dcd92d48184b"
      },
      "source": [
        "from sklearn.naive_bayes import GaussianNB\n",
        "gnb = GaussianNB()\n",
        "gnb.fit(Xtrain, ytrain)\n",
        "ypred = gnb.predict(Xtest)\n",
        "print(\"Accuracy: %f\\n\" % metrics.accuracy_score(ypred, ytest))\n",
        "\n",
        "confusion_matrix = metrics.confusion_matrix(ypred, ytest)\n",
        "print(\"Confusion Matrix: \")\n",
        "print(confusion_matrix)\n",
        "print()\n",
        "\n",
        "plt.imshow(confusion_matrix,\n",
        "           interpolation='nearest', cmap=plt.cm.binary)\n",
        "plt.grid(False)\n",
        "plt.colorbar()\n",
        "plt.xlabel(\"predicted label\")\n",
        "plt.ylabel(\"true label\");"
      ],
      "execution_count": 46,
      "outputs": [
        {
          "output_type": "stream",
          "text": [
            "Accuracy: 0.681600\n",
            "\n",
            "Confusion Matrix: \n",
            "[[1237  391]\n",
            " [ 405  467]]\n",
            "\n"
          ],
          "name": "stdout"
        },
        {
          "output_type": "display_data",
          "data": {
            "image/png": "[encoded data removed]",
            "text/plain": [
              "<Figure size 432x288 with 2 Axes>"
            ]
          },
          "metadata": {
            "tags": [],
            "needs_background": "light"
          }
        }
      ]
    },
    {
      "cell_type": "markdown",
      "metadata": {
        "id": "BtY5LKNYBEAM"
      },
      "source": [
        "## QuadraticDiscriminantAnalysis\n",
        "\n",
        "Everyone's favorite - [QuadraticDiscriminantAnalysis](https://scikit-learn.org/stable/modules/generated/sklearn.discriminant_analysis.QuadraticDiscriminantAnalysis.html#sklearn.discriminant_analysis.QuadraticDiscriminantAnalysis)"
      ]
    },
    {
      "cell_type": "code",
      "metadata": {
        "scrolled": true,
        "id": "yiUJCK-CBEAM",
        "colab": {
          "base_uri": "https://localhost:8080/",
          "height": 389
        },
        "outputId": "0497bd2d-f6d7-4297-a612-0118a9fb1378"
      },
      "source": [
        "from sklearn.discriminant_analysis import QuadraticDiscriminantAnalysis\n",
        "qda = QuadraticDiscriminantAnalysis()\n",
        "qda.fit(Xtrain, ytrain)\n",
        "ypred = qda.predict(Xtest)\n",
        "print(\"Accuracy: %f\\n\" % metrics.accuracy_score(ypred, ytest))\n",
        "\n",
        "confusion_matrix = metrics.confusion_matrix(ypred, ytest)\n",
        "print(\"Confusion Matrix: \")\n",
        "print(confusion_matrix)\n",
        "print()\n",
        "\n",
        "plt.imshow(confusion_matrix,\n",
        "           interpolation='nearest', cmap=plt.cm.binary)\n",
        "plt.grid(False)\n",
        "plt.colorbar()\n",
        "plt.xlabel(\"predicted label\")\n",
        "plt.ylabel(\"true label\");"
      ],
      "execution_count": 47,
      "outputs": [
        {
          "output_type": "stream",
          "text": [
            "Accuracy: 0.743200\n",
            "\n",
            "Confusion Matrix: \n",
            "[[1387  387]\n",
            " [ 255  471]]\n",
            "\n"
          ],
          "name": "stdout"
        },
        {
          "output_type": "display_data",
          "data": {
            "image/png": "[encoded data removed]",
            "text/plain": [
              "<Figure size 432x288 with 2 Axes>"
            ]
          },
          "metadata": {
            "tags": [],
            "needs_background": "light"
          }
        }
      ]
    },
    {
      "cell_type": "markdown",
      "metadata": {
        "id": "sAPx5eAfBEAP"
      },
      "source": [
        "## K-Nearest Neighbors\n",
        "\n",
        "Will you be my [KNeighborsClassifier](https://scikit-learn.org/stable/modules/generated/sklearn.neighbors.KNeighborsClassifier.html#sklearn.neighbors.KNeighborsClassifier)?\n"
      ]
    },
    {
      "cell_type": "code",
      "metadata": {
        "scrolled": true,
        "id": "ZKDgETjEBEAP",
        "colab": {
          "base_uri": "https://localhost:8080/",
          "height": 389
        },
        "outputId": "170d23de-0592-4c15-c968-d11720a440d0"
      },
      "source": [
        "from sklearn.neighbors import KNeighborsClassifier\n",
        "knc = KNeighborsClassifier()\n",
        "knc.fit(Xtrain, ytrain)\n",
        "ypred = knc.predict(Xtest)\n",
        "print(\"Accuracy: %f\\n\" % metrics.accuracy_score(ypred, ytest))\n",
        "\n",
        "confusion_matrix = metrics.confusion_matrix(ypred, ytest)\n",
        "print(\"Confusion Matrix: \")\n",
        "print(confusion_matrix)\n",
        "print()\n",
        "\n",
        "plt.imshow(confusion_matrix,\n",
        "           interpolation='nearest', cmap=plt.cm.binary)\n",
        "plt.grid(False)\n",
        "plt.colorbar()\n",
        "plt.xlabel(\"predicted label\")\n",
        "plt.ylabel(\"true label\");"
      ],
      "execution_count": 48,
      "outputs": [
        {
          "output_type": "stream",
          "text": [
            "Accuracy: 0.785200\n",
            "\n",
            "Confusion Matrix: \n",
            "[[1399  294]\n",
            " [ 243  564]]\n",
            "\n"
          ],
          "name": "stdout"
        },
        {
          "output_type": "display_data",
          "data": {
            "image/png": "[encoded data removed]",
            "text/plain": [
              "<Figure size 432x288 with 2 Axes>"
            ]
          },
          "metadata": {
            "tags": [],
            "needs_background": "light"
          }
        }
      ]
    },
    {
      "cell_type": "markdown",
      "metadata": {
        "id": "E-MGYmKkBEAR"
      },
      "source": [
        "## Multi-Layer Perceptron Classifier\n",
        "\n",
        "We can't have AI without [MLPClassifier](https://scikit-learn.org/stable/modules/generated/sklearn.neural_network.MLPClassifier.html#sklearn.neural_network.MLPClassifier)\n",
        "\n"
      ]
    },
    {
      "cell_type": "code",
      "metadata": {
        "scrolled": true,
        "id": "0OQ3UerQBEAS",
        "colab": {
          "base_uri": "https://localhost:8080/",
          "height": 389
        },
        "outputId": "9b88c04a-780e-4496-a681-197f10f8a7fb"
      },
      "source": [
        "from sklearn.neural_network import MLPClassifier\n",
        "mlp = MLPClassifier()\n",
        "mlp.fit(Xtrain, ytrain)\n",
        "ypred = mlp.predict(Xtest)\n",
        "print(\"Accuracy: %f\\n\" % metrics.accuracy_score(ypred, ytest))\n",
        "\n",
        "confusion_matrix = metrics.confusion_matrix(ypred, ytest)\n",
        "print(\"Confusion Matrix: \")\n",
        "print(confusion_matrix)\n",
        "print()\n",
        "\n",
        "plt.imshow(confusion_matrix,\n",
        "           interpolation='nearest', cmap=plt.cm.binary)\n",
        "plt.grid(False)\n",
        "plt.colorbar()\n",
        "plt.xlabel(\"predicted label\")\n",
        "plt.ylabel(\"true label\");"
      ],
      "execution_count": 49,
      "outputs": [
        {
          "output_type": "stream",
          "text": [
            "Accuracy: 0.688800\n",
            "\n",
            "Confusion Matrix: \n",
            "[[1454  590]\n",
            " [ 188  268]]\n",
            "\n"
          ],
          "name": "stdout"
        },
        {
          "output_type": "display_data",
          "data": {
            "image/png": "[encoded data removed]",
            "text/plain": [
              "<Figure size 432x288 with 2 Axes>"
            ]
          },
          "metadata": {
            "tags": [],
            "needs_background": "light"
          }
        }
      ]
    },
    {
      "cell_type": "markdown",
      "metadata": {
        "id": "gj5QlmN0BEAT"
      },
      "source": [
        "## Dimensionality Reduction\n",
        "\n",
        "Do we really need 166 attributes to be able to classify molecules as MUSK / NON-MUSK?\n",
        "\n",
        "Are any of these attributes dependent on others?\n",
        "\n",
        "We can use [Primary Component Analysis](https://scikit-learn.org/stable/modules/generated/sklearn.decomposition.PCA.html) to give us a bit more information. First let's look at the explained variance ratio of the attributes (components) across the entire dataframe."
      ]
    },
    {
      "cell_type": "code",
      "metadata": {
        "scrolled": true,
        "id": "9IFMmNAlBEAU",
        "colab": {
          "base_uri": "https://localhost:8080/",
          "height": 279
        },
        "outputId": "84fbad21-63a9-4fa8-9a7d-4823d9d31bc4"
      },
      "source": [
        "from sklearn.decomposition import PCA\n",
        "\n",
        "pca = PCA().fit(X)\n",
        "plt.plot(np.cumsum(pca.explained_variance_ratio_))\n",
        "plt.xlabel('number of components')\n",
        "plt.ylabel('cumulative explained variance');"
      ],
      "execution_count": 50,
      "outputs": [
        {
          "output_type": "display_data",
          "data": {
            "image/png": "[encoded data removed]",
            "text/plain": [
              "<Figure size 432x288 with 1 Axes>"
            ]
          },
          "metadata": {
            "tags": [],
            "needs_background": "light"
          }
        }
      ]
    },
    {
      "cell_type": "markdown",
      "metadata": {
        "id": "_WISrh16BEAV"
      },
      "source": [
        "We can also use PCA to reduce the component count while keeping a percentage of the variance. The next step shows that 95% of the variance can be kept with only 35 components."
      ]
    },
    {
      "cell_type": "code",
      "metadata": {
        "scrolled": true,
        "id": "QE3B6TL3BEAW",
        "colab": {
          "base_uri": "https://localhost:8080/"
        },
        "outputId": "f60d2f4d-12ae-465c-f62d-e193bc1f0206"
      },
      "source": [
        "pca = PCA(0.95) # keep 95% of variance\n",
        "Xtotal_xform = pca.fit_transform(X)\n",
        "Xtrain_xform = pca.fit_transform(Xtrain)\n",
        "Xtest_xform = pca.transform(Xtest)\n",
        "print(X.shape)\n",
        "print(Xtotal_xform.shape)\n",
        "print(\"95% of the variance can be represented by \"+ str((Xtrain_xform.shape[1] / X.shape[1] * 100)) + \"% of the original components count!\")"
      ],
      "execution_count": 51,
      "outputs": [
        {
          "output_type": "stream",
          "text": [
            "(10000, 30)\n",
            "(10000, 3)\n",
            "95% of the variance can be represented by 10.0% of the original components count!\n"
          ],
          "name": "stdout"
        }
      ]
    },
    {
      "cell_type": "markdown",
      "metadata": {
        "id": "yMm1Q7uoBEAY"
      },
      "source": [
        "## Classification with Dimensionality Reduction\n",
        "\n",
        "Now let's try repeating the classification exercise with the reduced dimensionality dataframe."
      ]
    },
    {
      "cell_type": "code",
      "metadata": {
        "scrolled": true,
        "id": "Dpjw71RHBEAY",
        "colab": {
          "base_uri": "https://localhost:8080/",
          "height": 389
        },
        "outputId": "59efd747-128f-42e7-9233-d73ced8e15e7"
      },
      "source": [
        "from sklearn.tree import DecisionTreeClassifier\n",
        "dtc = DecisionTreeClassifier()\n",
        "dtc.fit(Xtrain_xform, ytrain)\n",
        "ypred = dtc.predict(Xtest_xform)\n",
        "print(\"Accuracy: %f\\n\" % metrics.accuracy_score(ypred, ytest))\n",
        "\n",
        "confusion_matrix = metrics.confusion_matrix(ypred, ytest)\n",
        "print(\"Confusion Matrix: \")\n",
        "print(confusion_matrix)\n",
        "print()\n",
        "\n",
        "plt.imshow(confusion_matrix,\n",
        "           interpolation='nearest', cmap=plt.cm.binary)\n",
        "plt.grid(False)\n",
        "plt.colorbar()\n",
        "plt.xlabel(\"predicted label\")\n",
        "plt.ylabel(\"true label\");\n"
      ],
      "execution_count": 52,
      "outputs": [
        {
          "output_type": "stream",
          "text": [
            "Accuracy: 0.697600\n",
            "\n",
            "Confusion Matrix: \n",
            "[[1266  380]\n",
            " [ 376  478]]\n",
            "\n"
          ],
          "name": "stdout"
        },
        {
          "output_type": "display_data",
          "data": {
            "image/png": "[encoded data removed]",
            "text/plain": [
              "<Figure size 432x288 with 2 Axes>"
            ]
          },
          "metadata": {
            "tags": [],
            "needs_background": "light"
          }
        }
      ]
    },
    {
      "cell_type": "markdown",
      "metadata": {
        "id": "_6rXgUbmBEAa"
      },
      "source": [
        "## K-Fold Validation\n",
        "\n",
        "Initially, we have been splitting the data into a 75% training set and a 25% testing set by random sampling. This is commonly called \"Cross-validation\". \n",
        "\n",
        "From [Machine Learning Mastery](https://machinelearningmastery.com/k-fold-cross-validation/):\n",
        "Cross-validation is primarily used in applied machine learning to estimate the skill of a machine learning model on unseen data. That is, to use a limited sample in order to estimate how the model is expected to perform in general when used to make predictions on data not used during the training of the model.\n",
        "\n",
        "An additional approach is known as k-Fold Validation:\n",
        "The procedure has a single parameter called k that refers to the number of groups that a given data sample is to be split into. As such, the procedure is often called k-fold cross-validation. When a specific value for k is chosen, it may be used in place of k in the reference to the model, such as k=10 becoming 10-fold cross-validation."
      ]
    },
    {
      "cell_type": "code",
      "metadata": {
        "scrolled": true,
        "id": "KrGZWnGFBEAb",
        "colab": {
          "base_uri": "https://localhost:8080/"
        },
        "outputId": "207695ad-7da1-4a8b-99f4-92536828c5e2"
      },
      "source": [
        "# 2-fold cross-validation\n",
        "X1, X2, y1, y2 = train_test_split(X, y, test_size=0.5, random_state=0)\n",
        "X1.shape, X2.shape"
      ],
      "execution_count": 53,
      "outputs": [
        {
          "output_type": "execute_result",
          "data": {
            "text/plain": [
              "((5000, 30), (5000, 30))"
            ]
          },
          "metadata": {
            "tags": []
          },
          "execution_count": 53
        }
      ]
    },
    {
      "cell_type": "code",
      "metadata": {
        "scrolled": true,
        "id": "cu4-SETjBEAe",
        "colab": {
          "base_uri": "https://localhost:8080/"
        },
        "outputId": "79c59705-4e78-4c8d-92d6-1d6736e56104"
      },
      "source": [
        "print(SVC(kernel='rbf', gamma='scale').fit(X2, y2).score(X1, y1))\n",
        "print(SVC(kernel='rbf', gamma='scale').fit(X1, y1).score(X2, y2))"
      ],
      "execution_count": 54,
      "outputs": [
        {
          "output_type": "stream",
          "text": [
            "0.688\n",
            "0.696\n"
          ],
          "name": "stdout"
        }
      ]
    },
    {
      "cell_type": "code",
      "metadata": {
        "scrolled": true,
        "id": "dK7KEca6BEAh",
        "colab": {
          "base_uri": "https://localhost:8080/"
        },
        "outputId": "1fd68d8f-631f-4664-c7fe-24de40372f73"
      },
      "source": [
        "from sklearn.model_selection import cross_val_score\n",
        "cv = cross_val_score(SVC(kernel='rbf', gamma='scale'), X, y, cv=2)\n",
        "cv.mean()"
      ],
      "execution_count": 55,
      "outputs": [
        {
          "output_type": "execute_result",
          "data": {
            "text/plain": [
              "0.6918"
            ]
          },
          "metadata": {
            "tags": []
          },
          "execution_count": 55
        }
      ]
    },
    {
      "cell_type": "code",
      "metadata": {
        "scrolled": false,
        "id": "coOYhYTxBEAj",
        "colab": {
          "base_uri": "https://localhost:8080/",
          "height": 1000
        },
        "outputId": "ade41f9a-ed7a-4020-8791-be5412e1205c"
      },
      "source": [
        "from sklearn.model_selection import learning_curve\n",
        "\n",
        "def plot_learning_curve(estimator):\n",
        "    train_sizes, train_scores, test_scores = learning_curve(estimator, X, y, cv=5)\n",
        "\n",
        "    # train_scores = result[0]\n",
        "    # valid_scores = result[1]\n",
        "    title = \"Learning Curves (\"+ type(estimator).__name__ + \")\"\n",
        "    plt.figure()\n",
        "    plt.title(title)\n",
        "    plt.xlabel(\"Training examples\")\n",
        "    plt.ylabel(\"Score\")\n",
        "    train_scores_mean = np.mean(train_scores, axis=1)\n",
        "    train_scores_std = np.std(train_scores, axis=1)\n",
        "    test_scores_mean = np.mean(test_scores, axis=1)\n",
        "    test_scores_std = np.std(test_scores, axis=1)\n",
        "    plt.grid()\n",
        "\n",
        "    plt.fill_between(train_sizes, train_scores_mean - train_scores_std,\n",
        "                     train_scores_mean + train_scores_std, alpha=0.1,\n",
        "                     color=\"r\")\n",
        "    plt.fill_between(train_sizes, test_scores_mean - test_scores_std,\n",
        "                     test_scores_mean + test_scores_std, alpha=0.1, color=\"g\")\n",
        "    plt.plot(train_sizes, train_scores_mean, 'o-', color=\"r\",\n",
        "             label=\"Training score\")\n",
        "    plt.plot(train_sizes, test_scores_mean, 'o-', color=\"g\",\n",
        "             label=\"Cross-validation score\")\n",
        "    plt.legend(loc=\"best\")\n",
        "    plt.show()\n",
        "\n",
        "plot_learning_curve(GaussianNB())\n",
        "# plot_learning_curve(SVC())\n",
        "plot_learning_curve(DecisionTreeClassifier())\n",
        "plot_learning_curve(RandomForestClassifier(n_estimators=100))\n",
        "plot_learning_curve(AdaBoostClassifier())\n",
        "# plot_learning_curve(QuadraticDiscriminantAnalysis())\n",
        "# plot_learning_curve(KNeighborsClassifier())"
      ],
      "execution_count": 56,
      "outputs": [
        {
          "output_type": "display_data",
          "data": {
            "image/png": "[encoded data removed]",
            "text/plain": [
              "<Figure size 432x288 with 1 Axes>"
            ]
          },
          "metadata": {
            "tags": [],
            "needs_background": "light"
          }
        },
        {
          "output_type": "display_data",
          "data": {
            "image/png": "[encoded data removed]",
            "text/plain": [
              "<Figure size 432x288 with 1 Axes>"
            ]
          },
          "metadata": {
            "tags": [],
            "needs_background": "light"
          }
        },
        {
          "output_type": "display_data",
          "data": {
            "image/png": "[encoded data removed]",
            "text/plain": [
              "<Figure size 432x288 with 1 Axes>"
            ]
          },
          "metadata": {
            "tags": [],
            "needs_background": "light"
          }
        },
        {
          "output_type": "display_data",
          "data": {
            "image/png": "[encoded data removed]",
            "text/plain": [
              "<Figure size 432x288 with 1 Axes>"
            ]
          },
          "metadata": {
            "tags": [],
            "needs_background": "light"
          }
        }
      ]
    },
    {
      "cell_type": "code",
      "metadata": {
        "scrolled": true,
        "id": "6ebd5HONBEAl"
      },
      "source": [
        ""
      ],
      "execution_count": null,
      "outputs": []
    }
  ]
}